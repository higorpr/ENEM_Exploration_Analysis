{
  "nbformat": 4,
  "nbformat_minor": 0,
  "metadata": {
    "colab": {
      "name": "ENEM - Exploratory Analysis",
      "provenance": [],
      "collapsed_sections": [],
      "toc_visible": true,
      "mount_file_id": "1633yXDDXg4FH9nVl2PZQoc0m9Xj60Ie8",
      "authorship_tag": "ABX9TyNUaZFYdqW9lvPXSn6RULxH",
      "include_colab_link": true
    },
    "kernelspec": {
      "name": "python3",
      "display_name": "Python 3"
    },
    "language_info": {
      "name": "python"
    }
  },
  "cells": [
    {
      "cell_type": "markdown",
      "metadata": {
        "id": "view-in-github",
        "colab_type": "text"
      },
      "source": [
        "<a href=\"https://colab.research.google.com/github/higorpr/ENEM_Exploration_Analysis/blob/main/ENEM_Exploratory_Analysis.ipynb\" target=\"_parent\"><img src=\"https://colab.research.google.com/assets/colab-badge.svg\" alt=\"Open In Colab\"/></a>"
      ]
    },
    {
      "cell_type": "markdown",
      "source": [
        "# Methodology"
      ],
      "metadata": {
        "id": "BnNVe_eI6XBw"
      }
    },
    {
      "cell_type": "markdown",
      "source": [
        "This study aims to deepen the knowledge on data science best practices and follows the methodology presented by professor Carlos Eduardo for data analysis and interpretation. Said methodology can be summerized as:\n",
        "\n",
        "*Problem Framming > Domain Theory/Hypothesis > Modelling/Engineering > Experiment > Problem Reframming*\n",
        "\n",
        "The first steps taken will be data preprocessing (e.g., cleanup, duplicate checking) and data exploration.\n",
        "\n",
        "After these initial steps, it is expected that a \"story\" can be assembled using data as basis."
      ],
      "metadata": {
        "id": "gSehXtQrMS0a"
      }
    },
    {
      "cell_type": "markdown",
      "source": [
        "# Environment Setup"
      ],
      "metadata": {
        "id": "NnEVhqRt64gh"
      }
    },
    {
      "cell_type": "markdown",
      "source": [
        "Cell used for library installation:"
      ],
      "metadata": {
        "id": "-AKJAyCg39l7"
      }
    },
    {
      "cell_type": "code",
      "source": [
        "!pip install -U -q PyDrive"
      ],
      "metadata": {
        "id": "JFAanmM237P5"
      },
      "execution_count": 1,
      "outputs": []
    },
    {
      "cell_type": "markdown",
      "source": [
        "Cell used for importing libraries:"
      ],
      "metadata": {
        "id": "Ke1d6rip32zg"
      }
    },
    {
      "cell_type": "code",
      "source": [
        "import pprint\n",
        "import io\n",
        "import shutil\n",
        "import pandas as pd\n",
        "import numpy as np\n",
        "import seaborn as sns\n",
        "import matplotlib.pyplot as plt\n",
        "import os\n",
        "import pprint\n",
        "\n",
        "from matplotlib.ticker import PercentFormatter\n",
        "from collections import defaultdict\n",
        "from random import uniform\n",
        "from pydrive.auth import GoogleAuth\n",
        "from pydrive.drive import GoogleDrive\n",
        "from google.colab import auth, files\n",
        "from oauth2client.client import GoogleCredentials\n",
        "from googleapiclient.discovery import build\n",
        "from zipfile import ZipFile\n",
        "\n",
        "from googleapiclient.http import MediaIoBaseDownload"
      ],
      "metadata": {
        "id": "cPlCHNhg316e"
      },
      "execution_count": 2,
      "outputs": []
    },
    {
      "cell_type": "markdown",
      "source": [
        "Getting train and test files from Google Drive:\n",
        "\n",
        "Obs.: This step needs to be modified for each different Google Drive user."
      ],
      "metadata": {
        "id": "1mavUcNhIB7e"
      }
    },
    {
      "cell_type": "code",
      "source": [
        "file_id = \"1-HDq18PMcjLkRnbcLb36kA8dAHy5V55q\" #@param {type:\"string\"}\n",
        "\n",
        "# 1. Authenticate and create the PyDrive client.\n",
        "auth.authenticate_user()\n",
        "gauth = GoogleAuth()\n",
        "gauth.credentials = GoogleCredentials.get_application_default()\n",
        "drive = GoogleDrive(gauth)\n",
        "\n",
        "# PyDrive reference:\n",
        "# https://googledrive.github.io/PyDrive/docs/build/html/index.html\n",
        "\n",
        "auth.authenticate_user()\n",
        "\n",
        "drive_service = build('drive', 'v3')\n",
        "\n",
        "# Replace the assignment below with your file IDn\n",
        "\n",
        "# to download a different file.\n",
        "#\n",
        "# A file ID looks like: 1gLBqEWEBQDYbKCDigHnUXNTkzl-OslSO\n",
        "\n",
        "request = drive_service.files().get_media(fileId=file_id)\n",
        "downloaded = io.BytesIO()\n",
        "downloader = MediaIoBaseDownload(downloaded, request)\n",
        "done = False\n",
        "while done is False:\n",
        "  # _ is a placeholder for a progress object that we ignore.\n",
        "  # (Our file is small, so we skip reporting progress.)\n",
        "  _, done = downloader.next_chunk()\n",
        "\n",
        "fileId = drive.CreateFile({'id': file_id }) #DRIVE_FILE_ID is file id example: 1iytA1n2z4go3uVCwE_vIKouTKyIDjEq\n",
        "print(fileId['title'])  \n",
        "fileId.GetContentFile(fileId['title'])  # Save Drive file as a local file\n",
        "\n",
        "!unzip {fileId['title']}"
      ],
      "metadata": {
        "colab": {
          "base_uri": "https://localhost:8080/"
        },
        "id": "7Iz7WrwPy03K",
        "outputId": "a15a0e2d-7d93-4982-8b35-847f429af2ab"
      },
      "execution_count": null,
      "outputs": [
        {
          "output_type": "stream",
          "name": "stdout",
          "text": [
            "data.zip\n",
            "Archive:  data.zip\n",
            "  inflating: test.parquet            \n",
            "  inflating: train.parquet           \n"
          ]
        }
      ]
    },
    {
      "cell_type": "markdown",
      "source": [
        "Importing train and test files as Pandas Dataframes:"
      ],
      "metadata": {
        "id": "0l6vcnlqH5br"
      }
    },
    {
      "cell_type": "code",
      "source": [
        "df_test = pd.read_parquet('test.parquet', engine='pyarrow')\n",
        "df_train = pd.read_parquet('train.parquet', engine='pyarrow')"
      ],
      "metadata": {
        "id": "dvXrXLzqsidh"
      },
      "execution_count": null,
      "outputs": []
    },
    {
      "cell_type": "markdown",
      "source": [
        "Target features to be predicted in a future ML model:"
      ],
      "metadata": {
        "id": "kHCh8rZMILXU"
      }
    },
    {
      "cell_type": "code",
      "source": [
        "targets = list(set(df_train.columns) - set(df_test.columns))\n",
        "print(targets)"
      ],
      "metadata": {
        "colab": {
          "base_uri": "https://localhost:8080/"
        },
        "id": "9bCmQUtT_wQu",
        "outputId": "2393e3e3-8f90-4f91-ef97-0782346b1986"
      },
      "execution_count": null,
      "outputs": [
        {
          "output_type": "stream",
          "name": "stdout",
          "text": [
            "['NU_NOTA_CN', 'NU_NOTA_CH', 'NU_NOTA_MT', 'NU_NOTA_LC', 'NU_NOTA_REDACAO']\n"
          ]
        }
      ]
    },
    {
      "cell_type": "markdown",
      "source": [
        "# Data Preprocessing"
      ],
      "metadata": {
        "id": "-udSW6y46S-E"
      }
    },
    {
      "cell_type": "markdown",
      "source": [
        "The sizes of the training and testing dataset are:"
      ],
      "metadata": {
        "id": "Jy4EOSsL62FJ"
      }
    },
    {
      "cell_type": "code",
      "source": [
        "print('Size of test dataset')\n",
        "df_test.shape[0]"
      ],
      "metadata": {
        "colab": {
          "base_uri": "https://localhost:8080/"
        },
        "id": "DxchJlUqj3k8",
        "outputId": "0d716fbe-a714-41fe-e41b-a415e630367b"
      },
      "execution_count": null,
      "outputs": [
        {
          "output_type": "stream",
          "name": "stdout",
          "text": [
            "Size of test dataset\n"
          ]
        },
        {
          "output_type": "execute_result",
          "data": {
            "text/plain": [
              "1783345"
            ]
          },
          "metadata": {},
          "execution_count": 8
        }
      ]
    },
    {
      "cell_type": "code",
      "source": [
        "print('Size of train dataset')\n",
        "df_train.shape[0]"
      ],
      "metadata": {
        "colab": {
          "base_uri": "https://localhost:8080/"
        },
        "id": "h_EJj__Qj78e",
        "outputId": "dcbf9121-0649-4731-db82-f4e5114c94bd"
      },
      "execution_count": null,
      "outputs": [
        {
          "output_type": "stream",
          "name": "stdout",
          "text": [
            "Size of train dataset\n"
          ]
        },
        {
          "output_type": "execute_result",
          "data": {
            "text/plain": [
              "3311925"
            ]
          },
          "metadata": {},
          "execution_count": 9
        }
      ]
    },
    {
      "cell_type": "code",
      "source": [
        "df_train.head()"
      ],
      "metadata": {
        "colab": {
          "base_uri": "https://localhost:8080/",
          "height": 560
        },
        "id": "JW-32VL_xO1G",
        "outputId": "a4385af1-1a8b-4819-9232-9831361496ed"
      },
      "execution_count": null,
      "outputs": [
        {
          "output_type": "execute_result",
          "data": {
            "text/plain": [
              "                           NU_INSCRICAO  CO_MUNICIPIO_RESIDENCIA  \\\n",
              "0  d7e73c5f-2db8-4089-9bee-d3a0e045f87f                  1100023   \n",
              "1  668bf6e4-ddf7-4810-b31e-7d325e36de4d                  3106200   \n",
              "2  951e80d6-ac9b-4ff2-8130-fcbc8ac78b16                  3139409   \n",
              "3  baf409f9-ddc6-4e82-9a4b-b64b579cd105                  2506301   \n",
              "4  9fd415ac-3421-44ce-810e-599545c3c025                  2304400   \n",
              "\n",
              "  NO_MUNICIPIO_RESIDENCIA  CO_UF_RESIDENCIA SG_UF_RESIDENCIA  NU_IDADE  \\\n",
              "0               Ariquemes                11               RO      31.0   \n",
              "1          Belo Horizonte                31               MG      23.0   \n",
              "2                Manhuaçu                31               MG      17.0   \n",
              "3               Guarabira                25               PB      16.0   \n",
              "4               Fortaleza                23               CE      19.0   \n",
              "\n",
              "  TP_SEXO  TP_ESTADO_CIVIL  TP_COR_RACA  TP_NACIONALIDADE  ...  Q016 Q017  \\\n",
              "0       F                0            1                 1  ...     B    A   \n",
              "1       F                1            3                 1  ...     A    A   \n",
              "2       M                0            3                 1  ...     B    A   \n",
              "3       M                1            1                 1  ...     B    A   \n",
              "4       M                1            1                 1  ...     B    A   \n",
              "\n",
              "   Q018 Q019  Q020  Q021  Q022  Q023  Q024  Q025  \n",
              "0     A    B     A     A     C     A     B     B  \n",
              "1     A    B     A     A     C     A     B     B  \n",
              "2     B    C     B     B     D     A     B     B  \n",
              "3     A    B     A     A     E     A     A     B  \n",
              "4     A    E     B     B     C     B     B     B  \n",
              "\n",
              "[5 rows x 118 columns]"
            ],
            "text/html": [
              "\n",
              "  <div id=\"df-9aa8d7d5-a1a9-43df-828f-0e57b886bafe\">\n",
              "    <div class=\"colab-df-container\">\n",
              "      <div>\n",
              "<style scoped>\n",
              "    .dataframe tbody tr th:only-of-type {\n",
              "        vertical-align: middle;\n",
              "    }\n",
              "\n",
              "    .dataframe tbody tr th {\n",
              "        vertical-align: top;\n",
              "    }\n",
              "\n",
              "    .dataframe thead th {\n",
              "        text-align: right;\n",
              "    }\n",
              "</style>\n",
              "<table border=\"1\" class=\"dataframe\">\n",
              "  <thead>\n",
              "    <tr style=\"text-align: right;\">\n",
              "      <th></th>\n",
              "      <th>NU_INSCRICAO</th>\n",
              "      <th>CO_MUNICIPIO_RESIDENCIA</th>\n",
              "      <th>NO_MUNICIPIO_RESIDENCIA</th>\n",
              "      <th>CO_UF_RESIDENCIA</th>\n",
              "      <th>SG_UF_RESIDENCIA</th>\n",
              "      <th>NU_IDADE</th>\n",
              "      <th>TP_SEXO</th>\n",
              "      <th>TP_ESTADO_CIVIL</th>\n",
              "      <th>TP_COR_RACA</th>\n",
              "      <th>TP_NACIONALIDADE</th>\n",
              "      <th>...</th>\n",
              "      <th>Q016</th>\n",
              "      <th>Q017</th>\n",
              "      <th>Q018</th>\n",
              "      <th>Q019</th>\n",
              "      <th>Q020</th>\n",
              "      <th>Q021</th>\n",
              "      <th>Q022</th>\n",
              "      <th>Q023</th>\n",
              "      <th>Q024</th>\n",
              "      <th>Q025</th>\n",
              "    </tr>\n",
              "  </thead>\n",
              "  <tbody>\n",
              "    <tr>\n",
              "      <th>0</th>\n",
              "      <td>d7e73c5f-2db8-4089-9bee-d3a0e045f87f</td>\n",
              "      <td>1100023</td>\n",
              "      <td>Ariquemes</td>\n",
              "      <td>11</td>\n",
              "      <td>RO</td>\n",
              "      <td>31.0</td>\n",
              "      <td>F</td>\n",
              "      <td>0</td>\n",
              "      <td>1</td>\n",
              "      <td>1</td>\n",
              "      <td>...</td>\n",
              "      <td>B</td>\n",
              "      <td>A</td>\n",
              "      <td>A</td>\n",
              "      <td>B</td>\n",
              "      <td>A</td>\n",
              "      <td>A</td>\n",
              "      <td>C</td>\n",
              "      <td>A</td>\n",
              "      <td>B</td>\n",
              "      <td>B</td>\n",
              "    </tr>\n",
              "    <tr>\n",
              "      <th>1</th>\n",
              "      <td>668bf6e4-ddf7-4810-b31e-7d325e36de4d</td>\n",
              "      <td>3106200</td>\n",
              "      <td>Belo Horizonte</td>\n",
              "      <td>31</td>\n",
              "      <td>MG</td>\n",
              "      <td>23.0</td>\n",
              "      <td>F</td>\n",
              "      <td>1</td>\n",
              "      <td>3</td>\n",
              "      <td>1</td>\n",
              "      <td>...</td>\n",
              "      <td>A</td>\n",
              "      <td>A</td>\n",
              "      <td>A</td>\n",
              "      <td>B</td>\n",
              "      <td>A</td>\n",
              "      <td>A</td>\n",
              "      <td>C</td>\n",
              "      <td>A</td>\n",
              "      <td>B</td>\n",
              "      <td>B</td>\n",
              "    </tr>\n",
              "    <tr>\n",
              "      <th>2</th>\n",
              "      <td>951e80d6-ac9b-4ff2-8130-fcbc8ac78b16</td>\n",
              "      <td>3139409</td>\n",
              "      <td>Manhuaçu</td>\n",
              "      <td>31</td>\n",
              "      <td>MG</td>\n",
              "      <td>17.0</td>\n",
              "      <td>M</td>\n",
              "      <td>0</td>\n",
              "      <td>3</td>\n",
              "      <td>1</td>\n",
              "      <td>...</td>\n",
              "      <td>B</td>\n",
              "      <td>A</td>\n",
              "      <td>B</td>\n",
              "      <td>C</td>\n",
              "      <td>B</td>\n",
              "      <td>B</td>\n",
              "      <td>D</td>\n",
              "      <td>A</td>\n",
              "      <td>B</td>\n",
              "      <td>B</td>\n",
              "    </tr>\n",
              "    <tr>\n",
              "      <th>3</th>\n",
              "      <td>baf409f9-ddc6-4e82-9a4b-b64b579cd105</td>\n",
              "      <td>2506301</td>\n",
              "      <td>Guarabira</td>\n",
              "      <td>25</td>\n",
              "      <td>PB</td>\n",
              "      <td>16.0</td>\n",
              "      <td>M</td>\n",
              "      <td>1</td>\n",
              "      <td>1</td>\n",
              "      <td>1</td>\n",
              "      <td>...</td>\n",
              "      <td>B</td>\n",
              "      <td>A</td>\n",
              "      <td>A</td>\n",
              "      <td>B</td>\n",
              "      <td>A</td>\n",
              "      <td>A</td>\n",
              "      <td>E</td>\n",
              "      <td>A</td>\n",
              "      <td>A</td>\n",
              "      <td>B</td>\n",
              "    </tr>\n",
              "    <tr>\n",
              "      <th>4</th>\n",
              "      <td>9fd415ac-3421-44ce-810e-599545c3c025</td>\n",
              "      <td>2304400</td>\n",
              "      <td>Fortaleza</td>\n",
              "      <td>23</td>\n",
              "      <td>CE</td>\n",
              "      <td>19.0</td>\n",
              "      <td>M</td>\n",
              "      <td>1</td>\n",
              "      <td>1</td>\n",
              "      <td>1</td>\n",
              "      <td>...</td>\n",
              "      <td>B</td>\n",
              "      <td>A</td>\n",
              "      <td>A</td>\n",
              "      <td>E</td>\n",
              "      <td>B</td>\n",
              "      <td>B</td>\n",
              "      <td>C</td>\n",
              "      <td>B</td>\n",
              "      <td>B</td>\n",
              "      <td>B</td>\n",
              "    </tr>\n",
              "  </tbody>\n",
              "</table>\n",
              "<p>5 rows × 118 columns</p>\n",
              "</div>\n",
              "      <button class=\"colab-df-convert\" onclick=\"convertToInteractive('df-9aa8d7d5-a1a9-43df-828f-0e57b886bafe')\"\n",
              "              title=\"Convert this dataframe to an interactive table.\"\n",
              "              style=\"display:none;\">\n",
              "        \n",
              "  <svg xmlns=\"http://www.w3.org/2000/svg\" height=\"24px\"viewBox=\"0 0 24 24\"\n",
              "       width=\"24px\">\n",
              "    <path d=\"M0 0h24v24H0V0z\" fill=\"none\"/>\n",
              "    <path d=\"M18.56 5.44l.94 2.06.94-2.06 2.06-.94-2.06-.94-.94-2.06-.94 2.06-2.06.94zm-11 1L8.5 8.5l.94-2.06 2.06-.94-2.06-.94L8.5 2.5l-.94 2.06-2.06.94zm10 10l.94 2.06.94-2.06 2.06-.94-2.06-.94-.94-2.06-.94 2.06-2.06.94z\"/><path d=\"M17.41 7.96l-1.37-1.37c-.4-.4-.92-.59-1.43-.59-.52 0-1.04.2-1.43.59L10.3 9.45l-7.72 7.72c-.78.78-.78 2.05 0 2.83L4 21.41c.39.39.9.59 1.41.59.51 0 1.02-.2 1.41-.59l7.78-7.78 2.81-2.81c.8-.78.8-2.07 0-2.86zM5.41 20L4 18.59l7.72-7.72 1.47 1.35L5.41 20z\"/>\n",
              "  </svg>\n",
              "      </button>\n",
              "      \n",
              "  <style>\n",
              "    .colab-df-container {\n",
              "      display:flex;\n",
              "      flex-wrap:wrap;\n",
              "      gap: 12px;\n",
              "    }\n",
              "\n",
              "    .colab-df-convert {\n",
              "      background-color: #E8F0FE;\n",
              "      border: none;\n",
              "      border-radius: 50%;\n",
              "      cursor: pointer;\n",
              "      display: none;\n",
              "      fill: #1967D2;\n",
              "      height: 32px;\n",
              "      padding: 0 0 0 0;\n",
              "      width: 32px;\n",
              "    }\n",
              "\n",
              "    .colab-df-convert:hover {\n",
              "      background-color: #E2EBFA;\n",
              "      box-shadow: 0px 1px 2px rgba(60, 64, 67, 0.3), 0px 1px 3px 1px rgba(60, 64, 67, 0.15);\n",
              "      fill: #174EA6;\n",
              "    }\n",
              "\n",
              "    [theme=dark] .colab-df-convert {\n",
              "      background-color: #3B4455;\n",
              "      fill: #D2E3FC;\n",
              "    }\n",
              "\n",
              "    [theme=dark] .colab-df-convert:hover {\n",
              "      background-color: #434B5C;\n",
              "      box-shadow: 0px 1px 3px 1px rgba(0, 0, 0, 0.15);\n",
              "      filter: drop-shadow(0px 1px 2px rgba(0, 0, 0, 0.3));\n",
              "      fill: #FFFFFF;\n",
              "    }\n",
              "  </style>\n",
              "\n",
              "      <script>\n",
              "        const buttonEl =\n",
              "          document.querySelector('#df-9aa8d7d5-a1a9-43df-828f-0e57b886bafe button.colab-df-convert');\n",
              "        buttonEl.style.display =\n",
              "          google.colab.kernel.accessAllowed ? 'block' : 'none';\n",
              "\n",
              "        async function convertToInteractive(key) {\n",
              "          const element = document.querySelector('#df-9aa8d7d5-a1a9-43df-828f-0e57b886bafe');\n",
              "          const dataTable =\n",
              "            await google.colab.kernel.invokeFunction('convertToInteractive',\n",
              "                                                     [key], {});\n",
              "          if (!dataTable) return;\n",
              "\n",
              "          const docLinkHtml = 'Like what you see? Visit the ' +\n",
              "            '<a target=\"_blank\" href=https://colab.research.google.com/notebooks/data_table.ipynb>data table notebook</a>'\n",
              "            + ' to learn more about interactive tables.';\n",
              "          element.innerHTML = '';\n",
              "          dataTable['output_type'] = 'display_data';\n",
              "          await google.colab.output.renderOutput(dataTable, element);\n",
              "          const docLink = document.createElement('div');\n",
              "          docLink.innerHTML = docLinkHtml;\n",
              "          element.appendChild(docLink);\n",
              "        }\n",
              "      </script>\n",
              "    </div>\n",
              "  </div>\n",
              "  "
            ]
          },
          "metadata": {},
          "execution_count": 10
        }
      ]
    },
    {
      "cell_type": "markdown",
      "source": [
        "## NaN Values\n",
        "\n",
        "I'll be working on the train dataset on this phase. Therefore the NaN cleaning process will be focused only on the train dataset at this stage of development."
      ],
      "metadata": {
        "id": "xQg8OadHkS6H"
      }
    },
    {
      "cell_type": "code",
      "source": [
        "# Checking if any rows or collumns are made up of just NaN values:\n",
        "print('Train dataset shape before check:')\n",
        "print(df_train.shape)\n",
        "print('\\nChecking if any column is all NaN')\n",
        "df_train.dropna(axis=1, how='all', inplace=True)\n",
        "print('Shape after check:')\n",
        "print(df_train.shape)\n",
        "print('\\nChecking if any row is all NaN')\n",
        "df_train.dropna(axis=0, how='all', inplace=True)\n",
        "print('Shape after check:')\n",
        "print(df_train.shape)"
      ],
      "metadata": {
        "colab": {
          "base_uri": "https://localhost:8080/"
        },
        "id": "wXeNksQsrotE",
        "outputId": "b0a5d1b2-87c2-4704-c315-c8d9fd7b4af9"
      },
      "execution_count": null,
      "outputs": [
        {
          "output_type": "stream",
          "name": "stdout",
          "text": [
            "Train dataset shape before check:\n",
            "(3311925, 118)\n",
            "\n",
            "Checking if any column is all NaN\n",
            "Shape after check:\n",
            "(3311925, 118)\n",
            "\n",
            "Checking if any row is all NaN\n",
            "Shape after check:\n",
            "(3311925, 118)\n"
          ]
        }
      ]
    },
    {
      "cell_type": "code",
      "source": [
        "# Columns with NaN values\n",
        "df_train.isna().any()[lambda x: x]"
      ],
      "metadata": {
        "colab": {
          "base_uri": "https://localhost:8080/"
        },
        "id": "sNl00q-sgsMu",
        "outputId": "1cb6dc1e-16ff-4d73-e159-6efcc2aef659"
      },
      "execution_count": null,
      "outputs": [
        {
          "output_type": "execute_result",
          "data": {
            "text/plain": [
              "NU_IDADE                   True\n",
              "CO_MUNICIPIO_NASCIMENTO    True\n",
              "NO_MUNICIPIO_NASCIMENTO    True\n",
              "CO_UF_NASCIMENTO           True\n",
              "SG_UF_NASCIMENTO           True\n",
              "TP_ENSINO                  True\n",
              "CO_ESCOLA                  True\n",
              "CO_MUNICIPIO_ESC           True\n",
              "NO_MUNICIPIO_ESC           True\n",
              "CO_UF_ESC                  True\n",
              "SG_UF_ESC                  True\n",
              "TP_DEPENDENCIA_ADM_ESC     True\n",
              "TP_LOCALIZACAO_ESC         True\n",
              "TP_SIT_FUNC_ESC            True\n",
              "NU_NOTA_CN                 True\n",
              "NU_NOTA_CH                 True\n",
              "NU_NOTA_LC                 True\n",
              "NU_NOTA_MT                 True\n",
              "TP_STATUS_REDACAO          True\n",
              "NU_NOTA_REDACAO            True\n",
              "dtype: bool"
            ]
          },
          "metadata": {},
          "execution_count": 84
        }
      ]
    },
    {
      "cell_type": "code",
      "source": [
        "# Number of NaN values on each column:\n",
        "df_train.isna().sum()[df_train.isna().sum().values>0]"
      ],
      "metadata": {
        "colab": {
          "base_uri": "https://localhost:8080/"
        },
        "id": "IWYxgjIXjDIx",
        "outputId": "eb537372-f136-4ea3-d210-50ba7748559e"
      },
      "execution_count": null,
      "outputs": [
        {
          "output_type": "execute_result",
          "data": {
            "text/plain": [
              "NU_IDADE                        34\n",
              "CO_MUNICIPIO_NASCIMENTO      94562\n",
              "NO_MUNICIPIO_NASCIMENTO      94562\n",
              "CO_UF_NASCIMENTO             94562\n",
              "SG_UF_NASCIMENTO             94562\n",
              "TP_ENSINO                  1441571\n",
              "CO_ESCOLA                  2566547\n",
              "CO_MUNICIPIO_ESC           2566547\n",
              "NO_MUNICIPIO_ESC           2566547\n",
              "CO_UF_ESC                  2566547\n",
              "SG_UF_ESC                  2566547\n",
              "TP_DEPENDENCIA_ADM_ESC     2566547\n",
              "TP_LOCALIZACAO_ESC         2566547\n",
              "TP_SIT_FUNC_ESC            2566547\n",
              "NU_NOTA_CN                  900794\n",
              "NU_NOTA_CH                  762323\n",
              "NU_NOTA_LC                  762323\n",
              "NU_NOTA_MT                  900794\n",
              "TP_STATUS_REDACAO           762324\n",
              "NU_NOTA_REDACAO             762324\n",
              "dtype: int64"
            ]
          },
          "metadata": {},
          "execution_count": 85
        }
      ]
    },
    {
      "cell_type": "markdown",
      "source": [
        "Since all the statistics will be based on the target features, these will be investigated first:"
      ],
      "metadata": {
        "id": "QgEd7_mQ7Y_L"
      }
    },
    {
      "cell_type": "code",
      "source": [
        "# Checking if NaN values for grades are from people who did not do the test, therefore are not valuable to the statistics\n",
        "print(df_train['NU_NOTA_CN'].isna().sum() ==  ((df_train['TP_PRESENCA_CN'] == 0) | (df_train['TP_PRESENCA_CN'] == 2)).sum())\n",
        "print(df_train['NU_NOTA_CH'].isna().sum() ==  ((df_train['TP_PRESENCA_CH'] == 0) | (df_train['TP_PRESENCA_CH'] == 2)).sum())\n",
        "print(df_train['NU_NOTA_LC'].isna().sum() ==  ((df_train['TP_PRESENCA_LC'] == 0) | (df_train['TP_PRESENCA_LC'] == 2)).sum())\n",
        "print(df_train['NU_NOTA_MT'].isna().sum() ==  ((df_train['TP_PRESENCA_MT'] == 0) | (df_train['TP_PRESENCA_MT'] == 2)).sum())\n",
        "print(df_train['NU_NOTA_REDACAO'].isna().sum() == (df_train['TP_STATUS_REDACAO'] != 1).sum()) # '1' in 'TP_STATUS_REDACAO' means that there were no problems with the essay correction."
      ],
      "metadata": {
        "colab": {
          "base_uri": "https://localhost:8080/"
        },
        "id": "HGNna2kEOO6E",
        "outputId": "bbdc967d-1e60-42d1-9065-c77bf4b86617"
      },
      "execution_count": null,
      "outputs": [
        {
          "output_type": "stream",
          "name": "stdout",
          "text": [
            "True\n",
            "True\n",
            "True\n",
            "True\n",
            "False\n"
          ]
        }
      ]
    },
    {
      "cell_type": "markdown",
      "source": [
        "For the objective test grades, the number NaN entries match the number of students that did not attend the test or were eliminated from the test for some reason. Therefore these entries will be dropped (considering these entries in the analysis would not make sense in the context how the students conditions play a role in their grades)."
      ],
      "metadata": {
        "id": "rWqbRTJ46g4t"
      }
    },
    {
      "cell_type": "code",
      "source": [
        "test = df_train.dropna(subset=['NU_NOTA_CN','NU_NOTA_CH','NU_NOTA_LC','NU_NOTA_MT'],how='any')\n",
        "print(test.shape[0])\n",
        "# print(df_train.shape[0] - test.shape[0])\n",
        "print('Percentage of data dropped by this part of the cleaning process:', round(100-test.shape[0]/df_train.shape[0] * 100,2),'%')\n",
        "df_train = test.copy()"
      ],
      "metadata": {
        "colab": {
          "base_uri": "https://localhost:8080/"
        },
        "id": "eTvOHLeICsxw",
        "outputId": "9eb574b2-9ab7-41c8-a257-396eb4405f33"
      },
      "execution_count": null,
      "outputs": [
        {
          "output_type": "stream",
          "name": "stdout",
          "text": [
            "2405749\n",
            "Percentage of data dropped by this part of the cleaning process: 27.36 %\n"
          ]
        }
      ]
    },
    {
      "cell_type": "markdown",
      "source": [
        "The NaN entries for essay grades must be investigated more carefully since there are more options for 'TP_STATUS_REDACAO'.\n",
        "\n",
        "First, I'll check how many NaN entries are left after cleanup."
      ],
      "metadata": {
        "id": "u8ugyES3Cw2x"
      }
    },
    {
      "cell_type": "code",
      "source": [
        "print('NaN entries on the essay grades column:')\n",
        "print((df_train['NU_NOTA_REDACAO'].isna() == True).sum())\n",
        "print('\\nNaN entries on the essay test status column:')\n",
        "print((df_train['TP_STATUS_REDACAO'].isna() == True).sum())"
      ],
      "metadata": {
        "colab": {
          "base_uri": "https://localhost:8080/"
        },
        "id": "wxcn54MyWPS9",
        "outputId": "f22a9f2f-3596-43a3-b0a2-f909a2f41420"
      },
      "execution_count": null,
      "outputs": [
        {
          "output_type": "stream",
          "name": "stdout",
          "text": [
            "NaN entries on the essay grades column:\n",
            "1\n",
            "\n",
            "NaN entries on the essay test status column:\n",
            "1\n"
          ]
        }
      ]
    },
    {
      "cell_type": "code",
      "source": [
        "# Since the number of NaN entries is 'NU_NOTA_REDACAO' and 'TP_STATUS_REDACAO' are the same, I will check a possible connection between these features' NaNs.\n",
        "print('Size of dataframe containing rows where \"NU_NOTA_REDACAO\" or \"TP_STATUS_REDACAO\" are NaN:')\n",
        "print(df_train[(df_train['NU_NOTA_REDACAO'].isna() == True) | (df_train['TP_STATUS_REDACAO'].isna() == True)].shape[0])"
      ],
      "metadata": {
        "colab": {
          "base_uri": "https://localhost:8080/"
        },
        "id": "g_88Tf6czTWF",
        "outputId": "fcd87946-2042-476c-fe51-299ab8d5e035"
      },
      "execution_count": null,
      "outputs": [
        {
          "output_type": "stream",
          "name": "stdout",
          "text": [
            "Size of dataframe containing rows where \"NU_NOTA_REDACAO\" or \"TP_STATUS_REDACAO\" are NaN:\n",
            "1\n"
          ]
        }
      ]
    },
    {
      "cell_type": "markdown",
      "source": [
        "This check confirms that all the NaN values from 'NU_NOTA_REDACAO' come from NaN entries in 'TP_STATUS_REDACAO'. Therefore, the same NaN cleanup done previously can be applied again."
      ],
      "metadata": {
        "id": "Ght1FuGr0vO6"
      }
    },
    {
      "cell_type": "code",
      "source": [
        "df_train.dropna(subset=['NU_NOTA_REDACAO'], how='any', inplace=True)\n",
        "print('Number of entried in train dataset after grades cleanup:')\n",
        "print(df_train.shape[0])"
      ],
      "metadata": {
        "colab": {
          "base_uri": "https://localhost:8080/"
        },
        "id": "7u3qutJaX0gg",
        "outputId": "3cdf046e-165d-46e3-d4c7-2272c3d3c580"
      },
      "execution_count": null,
      "outputs": [
        {
          "output_type": "stream",
          "name": "stdout",
          "text": [
            "Number of entried in train dataset after grades cleanup:\n",
            "2405748\n"
          ]
        }
      ]
    },
    {
      "cell_type": "code",
      "source": [
        "# NaN entries on all columns after grades cleanup:\n",
        "print('Number of NaN entries in each column:\\n')\n",
        "print(df_train.isna().sum()[df_train.isna().sum().values>0])\n",
        "print('\\nPercentage of NaN entries in each column:\\n')\n",
        "round(df_train.isna().sum()[df_train.isna().sum().values>0] / df_train.shape[0] * 100, 4)"
      ],
      "metadata": {
        "colab": {
          "base_uri": "https://localhost:8080/"
        },
        "id": "O6uhM2j1abKl",
        "outputId": "fcf6df3c-3925-4a8c-af45-5ab4c1c1681c"
      },
      "execution_count": null,
      "outputs": [
        {
          "output_type": "stream",
          "name": "stdout",
          "text": [
            "Number of NaN entries in each column:\n",
            "\n",
            "NU_IDADE                        29\n",
            "CO_MUNICIPIO_NASCIMENTO      69163\n",
            "NO_MUNICIPIO_NASCIMENTO      69163\n",
            "CO_UF_NASCIMENTO             69163\n",
            "SG_UF_NASCIMENTO             69163\n",
            "TP_ENSINO                  1028337\n",
            "CO_ESCOLA                  1786126\n",
            "CO_MUNICIPIO_ESC           1786126\n",
            "NO_MUNICIPIO_ESC           1786126\n",
            "CO_UF_ESC                  1786126\n",
            "SG_UF_ESC                  1786126\n",
            "TP_DEPENDENCIA_ADM_ESC     1786126\n",
            "TP_LOCALIZACAO_ESC         1786126\n",
            "TP_SIT_FUNC_ESC            1786126\n",
            "dtype: int64\n",
            "\n",
            "Percentage of NaN entries in each column:\n",
            "\n"
          ]
        },
        {
          "output_type": "execute_result",
          "data": {
            "text/plain": [
              "NU_IDADE                    0.0012\n",
              "CO_MUNICIPIO_NASCIMENTO     2.8749\n",
              "NO_MUNICIPIO_NASCIMENTO     2.8749\n",
              "CO_UF_NASCIMENTO            2.8749\n",
              "SG_UF_NASCIMENTO            2.8749\n",
              "TP_ENSINO                  42.7450\n",
              "CO_ESCOLA                  74.2441\n",
              "CO_MUNICIPIO_ESC           74.2441\n",
              "NO_MUNICIPIO_ESC           74.2441\n",
              "CO_UF_ESC                  74.2441\n",
              "SG_UF_ESC                  74.2441\n",
              "TP_DEPENDENCIA_ADM_ESC     74.2441\n",
              "TP_LOCALIZACAO_ESC         74.2441\n",
              "TP_SIT_FUNC_ESC            74.2441\n",
              "dtype: float64"
            ]
          },
          "metadata": {},
          "execution_count": 91
        }
      ]
    },
    {
      "cell_type": "markdown",
      "source": [
        "From this point on, it would be unwise to just drop the rows with NaN values since the importance of each feature is still unkown when creating a regression model to predict a student's grade."
      ],
      "metadata": {
        "id": "yNIS6-i_cwnb"
      }
    },
    {
      "cell_type": "code",
      "source": [
        "# Sending cleaned train dataframe to Google Drive\n",
        "df_train.to_parquet('df_train.parquet')\n",
        "\n",
        "with ZipFile('train_data_csv.zip', 'w') as zip_obj:\n",
        "    zip_obj.write('df_train.parquet')\n",
        "\n",
        "colab_link = '/content/train_data_csv.zip'\n",
        "gdrive_link = '/content/drive/MyDrive/Data Science/ENEM/data/'\n",
        "shutil.copy(colab_link, gdrive_link)"
      ],
      "metadata": {
        "id": "KkGwH7z4AvZM"
      },
      "execution_count": null,
      "outputs": []
    },
    {
      "cell_type": "code",
      "source": [
        "# Loading cleaned train dataset:\n",
        "\n",
        "file_id = \"1-4kUGL3gM6SCAHvzYTMDQETg275uhtZ_\" \n",
        "\n",
        "# 1. Authenticate and create the PyDrive client.\n",
        "auth.authenticate_user()\n",
        "gauth = GoogleAuth()\n",
        "gauth.credentials = GoogleCredentials.get_application_default()\n",
        "drive = GoogleDrive(gauth)\n",
        "\n",
        "# PyDrive reference:\n",
        "# https://googledrive.github.io/PyDrive/docs/build/html/index.html\n",
        "\n",
        "auth.authenticate_user()\n",
        "\n",
        "drive_service = build('drive', 'v3')\n",
        "\n",
        "# Replace the assignment below with your file IDn\n",
        "\n",
        "# to download a different file.\n",
        "#\n",
        "# A file ID looks like: 1gLBqEWEBQDYbKCDigHnUXNTkzl-OslSO\n",
        "\n",
        "request = drive_service.files().get_media(fileId=file_id)\n",
        "downloaded = io.BytesIO()\n",
        "downloader = MediaIoBaseDownload(downloaded, request)\n",
        "done = False\n",
        "while done is False:\n",
        "  # _ is a placeholder for a progress object that we ignore.\n",
        "  # (Our file is small, so we skip reporting progress.)\n",
        "  _, done = downloader.next_chunk()\n",
        "\n",
        "fileId = drive.CreateFile({'id': file_id }) #DRIVE_FILE_ID is file id example: 1iytA1n2z4go3uVCwE_vIKouTKyIDjEq\n",
        "print(fileId['title'])  \n",
        "fileId.GetContentFile(fileId['title'])  # Save Drive file as a local file\n",
        "\n",
        "!unzip {fileId['title']}"
      ],
      "metadata": {
        "id": "6M1tOdi3BEKn",
        "colab": {
          "base_uri": "https://localhost:8080/"
        },
        "outputId": "04ea353b-612c-4f1d-fd64-cc9f982b5446"
      },
      "execution_count": null,
      "outputs": [
        {
          "output_type": "stream",
          "name": "stdout",
          "text": [
            "train_data_csv.zip\n",
            "Archive:  train_data_csv.zip\n",
            " extracting: df_train.parquet        \n"
          ]
        }
      ]
    },
    {
      "cell_type": "code",
      "source": [
        "df_train = pd.read_parquet('df_train.parquet')\n",
        "df_train.head()"
      ],
      "metadata": {
        "colab": {
          "base_uri": "https://localhost:8080/",
          "height": 560
        },
        "id": "ExehN1jJEmPT",
        "outputId": "7b156a0d-15f8-4283-ae43-8b6a1ab7a55d"
      },
      "execution_count": null,
      "outputs": [
        {
          "output_type": "execute_result",
          "data": {
            "text/plain": [
              "                           NU_INSCRICAO  CO_MUNICIPIO_RESIDENCIA  \\\n",
              "0  d7e73c5f-2db8-4089-9bee-d3a0e045f87f                  1100023   \n",
              "1  668bf6e4-ddf7-4810-b31e-7d325e36de4d                  3106200   \n",
              "2  951e80d6-ac9b-4ff2-8130-fcbc8ac78b16                  3139409   \n",
              "3  baf409f9-ddc6-4e82-9a4b-b64b579cd105                  2506301   \n",
              "4  9fd415ac-3421-44ce-810e-599545c3c025                  2304400   \n",
              "\n",
              "  NO_MUNICIPIO_RESIDENCIA  CO_UF_RESIDENCIA SG_UF_RESIDENCIA  NU_IDADE  \\\n",
              "0               Ariquemes                11               RO      31.0   \n",
              "1          Belo Horizonte                31               MG      23.0   \n",
              "2                Manhuaçu                31               MG      17.0   \n",
              "3               Guarabira                25               PB      16.0   \n",
              "4               Fortaleza                23               CE      19.0   \n",
              "\n",
              "  TP_SEXO  TP_ESTADO_CIVIL  TP_COR_RACA  TP_NACIONALIDADE  ...  Q016 Q017  \\\n",
              "0       F                0            1                 1  ...     B    A   \n",
              "1       F                1            3                 1  ...     A    A   \n",
              "2       M                0            3                 1  ...     B    A   \n",
              "3       M                1            1                 1  ...     B    A   \n",
              "4       M                1            1                 1  ...     B    A   \n",
              "\n",
              "   Q018 Q019  Q020  Q021  Q022  Q023  Q024  Q025  \n",
              "0     A    B     A     A     C     A     B     B  \n",
              "1     A    B     A     A     C     A     B     B  \n",
              "2     B    C     B     B     D     A     B     B  \n",
              "3     A    B     A     A     E     A     A     B  \n",
              "4     A    E     B     B     C     B     B     B  \n",
              "\n",
              "[5 rows x 118 columns]"
            ],
            "text/html": [
              "\n",
              "  <div id=\"df-23af055b-8836-4fdf-9c46-3ad16314c26b\">\n",
              "    <div class=\"colab-df-container\">\n",
              "      <div>\n",
              "<style scoped>\n",
              "    .dataframe tbody tr th:only-of-type {\n",
              "        vertical-align: middle;\n",
              "    }\n",
              "\n",
              "    .dataframe tbody tr th {\n",
              "        vertical-align: top;\n",
              "    }\n",
              "\n",
              "    .dataframe thead th {\n",
              "        text-align: right;\n",
              "    }\n",
              "</style>\n",
              "<table border=\"1\" class=\"dataframe\">\n",
              "  <thead>\n",
              "    <tr style=\"text-align: right;\">\n",
              "      <th></th>\n",
              "      <th>NU_INSCRICAO</th>\n",
              "      <th>CO_MUNICIPIO_RESIDENCIA</th>\n",
              "      <th>NO_MUNICIPIO_RESIDENCIA</th>\n",
              "      <th>CO_UF_RESIDENCIA</th>\n",
              "      <th>SG_UF_RESIDENCIA</th>\n",
              "      <th>NU_IDADE</th>\n",
              "      <th>TP_SEXO</th>\n",
              "      <th>TP_ESTADO_CIVIL</th>\n",
              "      <th>TP_COR_RACA</th>\n",
              "      <th>TP_NACIONALIDADE</th>\n",
              "      <th>...</th>\n",
              "      <th>Q016</th>\n",
              "      <th>Q017</th>\n",
              "      <th>Q018</th>\n",
              "      <th>Q019</th>\n",
              "      <th>Q020</th>\n",
              "      <th>Q021</th>\n",
              "      <th>Q022</th>\n",
              "      <th>Q023</th>\n",
              "      <th>Q024</th>\n",
              "      <th>Q025</th>\n",
              "    </tr>\n",
              "  </thead>\n",
              "  <tbody>\n",
              "    <tr>\n",
              "      <th>0</th>\n",
              "      <td>d7e73c5f-2db8-4089-9bee-d3a0e045f87f</td>\n",
              "      <td>1100023</td>\n",
              "      <td>Ariquemes</td>\n",
              "      <td>11</td>\n",
              "      <td>RO</td>\n",
              "      <td>31.0</td>\n",
              "      <td>F</td>\n",
              "      <td>0</td>\n",
              "      <td>1</td>\n",
              "      <td>1</td>\n",
              "      <td>...</td>\n",
              "      <td>B</td>\n",
              "      <td>A</td>\n",
              "      <td>A</td>\n",
              "      <td>B</td>\n",
              "      <td>A</td>\n",
              "      <td>A</td>\n",
              "      <td>C</td>\n",
              "      <td>A</td>\n",
              "      <td>B</td>\n",
              "      <td>B</td>\n",
              "    </tr>\n",
              "    <tr>\n",
              "      <th>1</th>\n",
              "      <td>668bf6e4-ddf7-4810-b31e-7d325e36de4d</td>\n",
              "      <td>3106200</td>\n",
              "      <td>Belo Horizonte</td>\n",
              "      <td>31</td>\n",
              "      <td>MG</td>\n",
              "      <td>23.0</td>\n",
              "      <td>F</td>\n",
              "      <td>1</td>\n",
              "      <td>3</td>\n",
              "      <td>1</td>\n",
              "      <td>...</td>\n",
              "      <td>A</td>\n",
              "      <td>A</td>\n",
              "      <td>A</td>\n",
              "      <td>B</td>\n",
              "      <td>A</td>\n",
              "      <td>A</td>\n",
              "      <td>C</td>\n",
              "      <td>A</td>\n",
              "      <td>B</td>\n",
              "      <td>B</td>\n",
              "    </tr>\n",
              "    <tr>\n",
              "      <th>2</th>\n",
              "      <td>951e80d6-ac9b-4ff2-8130-fcbc8ac78b16</td>\n",
              "      <td>3139409</td>\n",
              "      <td>Manhuaçu</td>\n",
              "      <td>31</td>\n",
              "      <td>MG</td>\n",
              "      <td>17.0</td>\n",
              "      <td>M</td>\n",
              "      <td>0</td>\n",
              "      <td>3</td>\n",
              "      <td>1</td>\n",
              "      <td>...</td>\n",
              "      <td>B</td>\n",
              "      <td>A</td>\n",
              "      <td>B</td>\n",
              "      <td>C</td>\n",
              "      <td>B</td>\n",
              "      <td>B</td>\n",
              "      <td>D</td>\n",
              "      <td>A</td>\n",
              "      <td>B</td>\n",
              "      <td>B</td>\n",
              "    </tr>\n",
              "    <tr>\n",
              "      <th>3</th>\n",
              "      <td>baf409f9-ddc6-4e82-9a4b-b64b579cd105</td>\n",
              "      <td>2506301</td>\n",
              "      <td>Guarabira</td>\n",
              "      <td>25</td>\n",
              "      <td>PB</td>\n",
              "      <td>16.0</td>\n",
              "      <td>M</td>\n",
              "      <td>1</td>\n",
              "      <td>1</td>\n",
              "      <td>1</td>\n",
              "      <td>...</td>\n",
              "      <td>B</td>\n",
              "      <td>A</td>\n",
              "      <td>A</td>\n",
              "      <td>B</td>\n",
              "      <td>A</td>\n",
              "      <td>A</td>\n",
              "      <td>E</td>\n",
              "      <td>A</td>\n",
              "      <td>A</td>\n",
              "      <td>B</td>\n",
              "    </tr>\n",
              "    <tr>\n",
              "      <th>4</th>\n",
              "      <td>9fd415ac-3421-44ce-810e-599545c3c025</td>\n",
              "      <td>2304400</td>\n",
              "      <td>Fortaleza</td>\n",
              "      <td>23</td>\n",
              "      <td>CE</td>\n",
              "      <td>19.0</td>\n",
              "      <td>M</td>\n",
              "      <td>1</td>\n",
              "      <td>1</td>\n",
              "      <td>1</td>\n",
              "      <td>...</td>\n",
              "      <td>B</td>\n",
              "      <td>A</td>\n",
              "      <td>A</td>\n",
              "      <td>E</td>\n",
              "      <td>B</td>\n",
              "      <td>B</td>\n",
              "      <td>C</td>\n",
              "      <td>B</td>\n",
              "      <td>B</td>\n",
              "      <td>B</td>\n",
              "    </tr>\n",
              "  </tbody>\n",
              "</table>\n",
              "<p>5 rows × 118 columns</p>\n",
              "</div>\n",
              "      <button class=\"colab-df-convert\" onclick=\"convertToInteractive('df-23af055b-8836-4fdf-9c46-3ad16314c26b')\"\n",
              "              title=\"Convert this dataframe to an interactive table.\"\n",
              "              style=\"display:none;\">\n",
              "        \n",
              "  <svg xmlns=\"http://www.w3.org/2000/svg\" height=\"24px\"viewBox=\"0 0 24 24\"\n",
              "       width=\"24px\">\n",
              "    <path d=\"M0 0h24v24H0V0z\" fill=\"none\"/>\n",
              "    <path d=\"M18.56 5.44l.94 2.06.94-2.06 2.06-.94-2.06-.94-.94-2.06-.94 2.06-2.06.94zm-11 1L8.5 8.5l.94-2.06 2.06-.94-2.06-.94L8.5 2.5l-.94 2.06-2.06.94zm10 10l.94 2.06.94-2.06 2.06-.94-2.06-.94-.94-2.06-.94 2.06-2.06.94z\"/><path d=\"M17.41 7.96l-1.37-1.37c-.4-.4-.92-.59-1.43-.59-.52 0-1.04.2-1.43.59L10.3 9.45l-7.72 7.72c-.78.78-.78 2.05 0 2.83L4 21.41c.39.39.9.59 1.41.59.51 0 1.02-.2 1.41-.59l7.78-7.78 2.81-2.81c.8-.78.8-2.07 0-2.86zM5.41 20L4 18.59l7.72-7.72 1.47 1.35L5.41 20z\"/>\n",
              "  </svg>\n",
              "      </button>\n",
              "      \n",
              "  <style>\n",
              "    .colab-df-container {\n",
              "      display:flex;\n",
              "      flex-wrap:wrap;\n",
              "      gap: 12px;\n",
              "    }\n",
              "\n",
              "    .colab-df-convert {\n",
              "      background-color: #E8F0FE;\n",
              "      border: none;\n",
              "      border-radius: 50%;\n",
              "      cursor: pointer;\n",
              "      display: none;\n",
              "      fill: #1967D2;\n",
              "      height: 32px;\n",
              "      padding: 0 0 0 0;\n",
              "      width: 32px;\n",
              "    }\n",
              "\n",
              "    .colab-df-convert:hover {\n",
              "      background-color: #E2EBFA;\n",
              "      box-shadow: 0px 1px 2px rgba(60, 64, 67, 0.3), 0px 1px 3px 1px rgba(60, 64, 67, 0.15);\n",
              "      fill: #174EA6;\n",
              "    }\n",
              "\n",
              "    [theme=dark] .colab-df-convert {\n",
              "      background-color: #3B4455;\n",
              "      fill: #D2E3FC;\n",
              "    }\n",
              "\n",
              "    [theme=dark] .colab-df-convert:hover {\n",
              "      background-color: #434B5C;\n",
              "      box-shadow: 0px 1px 3px 1px rgba(0, 0, 0, 0.15);\n",
              "      filter: drop-shadow(0px 1px 2px rgba(0, 0, 0, 0.3));\n",
              "      fill: #FFFFFF;\n",
              "    }\n",
              "  </style>\n",
              "\n",
              "      <script>\n",
              "        const buttonEl =\n",
              "          document.querySelector('#df-23af055b-8836-4fdf-9c46-3ad16314c26b button.colab-df-convert');\n",
              "        buttonEl.style.display =\n",
              "          google.colab.kernel.accessAllowed ? 'block' : 'none';\n",
              "\n",
              "        async function convertToInteractive(key) {\n",
              "          const element = document.querySelector('#df-23af055b-8836-4fdf-9c46-3ad16314c26b');\n",
              "          const dataTable =\n",
              "            await google.colab.kernel.invokeFunction('convertToInteractive',\n",
              "                                                     [key], {});\n",
              "          if (!dataTable) return;\n",
              "\n",
              "          const docLinkHtml = 'Like what you see? Visit the ' +\n",
              "            '<a target=\"_blank\" href=https://colab.research.google.com/notebooks/data_table.ipynb>data table notebook</a>'\n",
              "            + ' to learn more about interactive tables.';\n",
              "          element.innerHTML = '';\n",
              "          dataTable['output_type'] = 'display_data';\n",
              "          await google.colab.output.renderOutput(dataTable, element);\n",
              "          const docLink = document.createElement('div');\n",
              "          docLink.innerHTML = docLinkHtml;\n",
              "          element.appendChild(docLink);\n",
              "        }\n",
              "      </script>\n",
              "    </div>\n",
              "  </div>\n",
              "  "
            ]
          },
          "metadata": {},
          "execution_count": 4
        }
      ]
    },
    {
      "cell_type": "markdown",
      "source": [
        "## Duplicate Data\n",
        "\n",
        "Search for possible duplicate rows."
      ],
      "metadata": {
        "id": "qOf9uQc91tS4"
      }
    },
    {
      "cell_type": "code",
      "source": [
        "# Number of duplicated rows:\n",
        "df_train.duplicated().sum()"
      ],
      "metadata": {
        "colab": {
          "base_uri": "https://localhost:8080/"
        },
        "id": "IpHCHSXq43Gh",
        "outputId": "d7ee9478-a83a-424d-b97e-50f272b49687"
      },
      "execution_count": null,
      "outputs": [
        {
          "output_type": "execute_result",
          "data": {
            "text/plain": [
              "0"
            ]
          },
          "metadata": {},
          "execution_count": 5
        }
      ]
    },
    {
      "cell_type": "markdown",
      "source": [
        "There is not duplicated data in the training dataset."
      ],
      "metadata": {
        "id": "9Ks5pn2whqy5"
      }
    },
    {
      "cell_type": "markdown",
      "source": [
        "# Data Exploration\n",
        "\n",
        "This section dives deeper in the interpretation and statistics of the data after the initial cleanup.\n",
        "\n",
        "Additionally, some data manipulation can be done if deemed necessary."
      ],
      "metadata": {
        "id": "WIWSsODC2_pR"
      }
    },
    {
      "cell_type": "markdown",
      "source": [
        "## Essay Grade Investigation\n",
        "\n",
        "Following the data cleaning done in the previous section, it would be useful to know if an essay can receive a grade different than 0 if any issues listed in 'TP_STATUS_REDACAO' are present. That is, if any student got a zero and had a status listed as \"No Problems\" (TP_STATUS_REDACAO = 1).\n",
        "\n",
        "What motivated this investigation is the future interpretation of zero-grade essays (if existant)."
      ],
      "metadata": {
        "id": "5MgZRoXoX0oX"
      }
    },
    {
      "cell_type": "code",
      "source": [
        "# Number of students with zero as grade:\n",
        "(df_train['NU_NOTA_REDACAO'] == 0).sum()"
      ],
      "metadata": {
        "colab": {
          "base_uri": "https://localhost:8080/"
        },
        "id": "wV9U_opqEgtV",
        "outputId": "4a94ace0-d62b-48cd-cc63-3db684a3eebe"
      },
      "execution_count": null,
      "outputs": [
        {
          "output_type": "execute_result",
          "data": {
            "text/plain": [
              "68815"
            ]
          },
          "metadata": {},
          "execution_count": 6
        }
      ]
    },
    {
      "cell_type": "code",
      "source": [
        "# Number of students that got a 0 and had the \"no problems\" status with the essay:\n",
        "df_train[(df_train['TP_STATUS_REDACAO'] == 1) & (df_train['NU_NOTA_REDACAO'] == 0)][['TP_STATUS_REDACAO','NU_NOTA_REDACAO']].shape[0]"
      ],
      "metadata": {
        "colab": {
          "base_uri": "https://localhost:8080/"
        },
        "id": "aqrH0LJTQKBr",
        "outputId": "64bfc0c5-5eb3-4825-d59a-760eeb149550"
      },
      "execution_count": null,
      "outputs": [
        {
          "output_type": "execute_result",
          "data": {
            "text/plain": [
              "0"
            ]
          },
          "metadata": {},
          "execution_count": 7
        }
      ]
    },
    {
      "cell_type": "code",
      "source": [
        "# Number of students that got a 0 and had some status issue:\n",
        "df_train[(df_train['TP_STATUS_REDACAO'] != 1) & (df_train['NU_NOTA_REDACAO'] == 0)][['TP_STATUS_REDACAO','NU_NOTA_REDACAO']].shape[0]"
      ],
      "metadata": {
        "colab": {
          "base_uri": "https://localhost:8080/"
        },
        "id": "l5qiBz9CugzQ",
        "outputId": "1ac2a327-98ba-4b01-ca93-b6c022f09612"
      },
      "execution_count": null,
      "outputs": [
        {
          "output_type": "execute_result",
          "data": {
            "text/plain": [
              "68815"
            ]
          },
          "metadata": {},
          "execution_count": 8
        }
      ]
    },
    {
      "cell_type": "code",
      "source": [
        "perc = (df_train.shape[0] - (df_train['NU_NOTA_REDACAO'] == 0).sum()) / df_train.shape[0]\n",
        "\n",
        "print(f'Number of entries in the dataset: {df_train.shape[0]} students.')\n",
        "print('The number of zero grade essay students is',round((100 - perc*100), 2),'% of the training dataset.')"
      ],
      "metadata": {
        "colab": {
          "base_uri": "https://localhost:8080/"
        },
        "id": "LNQmD28_u0_0",
        "outputId": "c75e0bca-eab0-4440-cbb6-4216cfe3c571"
      },
      "execution_count": null,
      "outputs": [
        {
          "output_type": "stream",
          "name": "stdout",
          "text": [
            "Number of entries in the dataset: 2405748 students.\n",
            "The number of zero grade essay students is 2.86 % of the training dataset.\n"
          ]
        }
      ]
    },
    {
      "cell_type": "markdown",
      "source": [
        "The previous cells showed that a student would only get a zero if its essay had one of the issues listed in \"TP_STATUS_REDACAO\". \n",
        "\n",
        "Considering that students that got a zero on their essays are less than 3% of the dataset, it was decided that these entries would be dropped from the dataset.\n",
        "\n",
        "They could be considered \"pseudo\" outliers. Their grades do not reflect their writing prowess since they were given zero as grade for a single mistake rather than as a result of an essay where nothing could be salvaged."
      ],
      "metadata": {
        "id": "-6bxygewt61s"
      }
    },
    {
      "cell_type": "code",
      "source": [
        "# Dropping zero essay grades:\n",
        "df_train = df_train[df_train['NU_NOTA_REDACAO'] != 0]\n",
        "print(f'Final shape of the training dataset: {df_train.shape}')"
      ],
      "metadata": {
        "colab": {
          "base_uri": "https://localhost:8080/"
        },
        "id": "gsFeBM51xVz8",
        "outputId": "6296b1b3-8f74-425b-e6e6-62c5199f4446"
      },
      "execution_count": null,
      "outputs": [
        {
          "output_type": "stream",
          "name": "stdout",
          "text": [
            "Final shape of the training dataset: (2336933, 118)\n"
          ]
        }
      ]
    },
    {
      "cell_type": "markdown",
      "source": [
        "Saving the latest version of the training dataset:"
      ],
      "metadata": {
        "id": "nA6d6rdUkeUf"
      }
    },
    {
      "cell_type": "code",
      "source": [
        "# Sending cleaned train dataframe to Google Drive\n",
        "df_train.to_parquet('df_train_RevA.parquet')\n",
        "\n",
        "with ZipFile('train_data_parquet_RevA.zip', 'w') as zip_obj:\n",
        "    zip_obj.write('df_train_RevA.parquet')\n",
        "\n",
        "colab_link = '/content/train_data_parquet_RevA.zip'\n",
        "gdrive_link = '/content/drive/MyDrive/Data Science/ENEM/data/'\n",
        "shutil.copy(colab_link, gdrive_link)"
      ],
      "metadata": {
        "colab": {
          "base_uri": "https://localhost:8080/",
          "height": 35
        },
        "id": "fGu2EzvPkdwn",
        "outputId": "2b1d349a-e47d-43be-ccf6-f45802a23123"
      },
      "execution_count": null,
      "outputs": [
        {
          "output_type": "execute_result",
          "data": {
            "text/plain": [
              "'/content/drive/MyDrive/Data Science/ENEM/data/train_data_parquet_RevA.zip'"
            ],
            "application/vnd.google.colaboratory.intrinsic+json": {
              "type": "string"
            }
          },
          "metadata": {},
          "execution_count": 11
        }
      ]
    },
    {
      "cell_type": "markdown",
      "source": [
        "### Latest Dataset Load\n",
        "\n",
        "Dataset loading cell:"
      ],
      "metadata": {
        "id": "YXEePyxAs8yM"
      }
    },
    {
      "cell_type": "code",
      "source": [
        "# Loading cleaned train dataset:\n",
        "\n",
        "file_id = \"16ylR6D_Ucf3Ks-eFRkn5CNn-3orosAgk\"\n",
        "\n",
        "\n",
        "# 1. Authenticate and create the PyDrive client.\n",
        "auth.authenticate_user()\n",
        "gauth = GoogleAuth()\n",
        "gauth.credentials = GoogleCredentials.get_application_default()\n",
        "drive = GoogleDrive(gauth)\n",
        "\n",
        "# PyDrive reference:\n",
        "# https://googledrive.github.io/PyDrive/docs/build/html/index.html\n",
        "\n",
        "auth.authenticate_user()\n",
        "\n",
        "drive_service = build('drive', 'v3')\n",
        "\n",
        "# Replace the assignment below with your file IDn\n",
        "\n",
        "# to download a different file.\n",
        "#\n",
        "# A file ID looks like: 1gLBqEWEBQDYbKCDigHnUXNTkzl-OslSO\n",
        "\n",
        "request = drive_service.files().get_media(fileId=file_id)\n",
        "downloaded = io.BytesIO()\n",
        "downloader = MediaIoBaseDownload(downloaded, request)\n",
        "done = False\n",
        "while done is False:\n",
        "  # _ is a placeholder for a progress object that we ignore.\n",
        "  # (Our file is small, so we skip reporting progress.)\n",
        "  _, done = downloader.next_chunk()\n",
        "\n",
        "fileId = drive.CreateFile({'id': file_id }) #DRIVE_FILE_ID is file id example: 1iytA1n2z4go3uVCwE_vIKouTKyIDjEq\n",
        "print(fileId['title'])  \n",
        "fileId.GetContentFile(fileId['title'])  # Save Drive file as a local file\n",
        "\n",
        "!unzip {fileId['title']}"
      ],
      "metadata": {
        "colab": {
          "base_uri": "https://localhost:8080/"
        },
        "id": "ygiTj5NAtAVI",
        "outputId": "dcadd17c-6957-45fd-ec49-f3ac4814a5ec"
      },
      "execution_count": 3,
      "outputs": [
        {
          "output_type": "stream",
          "name": "stdout",
          "text": [
            "train_data_parquet_RevA.zip\n",
            "Archive:  train_data_parquet_RevA.zip\n",
            " extracting: df_train_RevA.parquet   \n"
          ]
        }
      ]
    },
    {
      "cell_type": "code",
      "source": [
        "df_train = pd.read_parquet('df_train_RevA.parquet')\n",
        "df_train.head()"
      ],
      "metadata": {
        "colab": {
          "base_uri": "https://localhost:8080/",
          "height": 560
        },
        "id": "RdAuGIWztQAq",
        "outputId": "4e10880f-2550-403f-d9f9-13f3603d7908"
      },
      "execution_count": 4,
      "outputs": [
        {
          "output_type": "execute_result",
          "data": {
            "text/plain": [
              "                           NU_INSCRICAO  CO_MUNICIPIO_RESIDENCIA  \\\n",
              "0  d7e73c5f-2db8-4089-9bee-d3a0e045f87f                  1100023   \n",
              "1  668bf6e4-ddf7-4810-b31e-7d325e36de4d                  3106200   \n",
              "2  951e80d6-ac9b-4ff2-8130-fcbc8ac78b16                  3139409   \n",
              "3  baf409f9-ddc6-4e82-9a4b-b64b579cd105                  2506301   \n",
              "4  9fd415ac-3421-44ce-810e-599545c3c025                  2304400   \n",
              "\n",
              "  NO_MUNICIPIO_RESIDENCIA  CO_UF_RESIDENCIA SG_UF_RESIDENCIA  NU_IDADE  \\\n",
              "0               Ariquemes                11               RO      31.0   \n",
              "1          Belo Horizonte                31               MG      23.0   \n",
              "2                Manhuaçu                31               MG      17.0   \n",
              "3               Guarabira                25               PB      16.0   \n",
              "4               Fortaleza                23               CE      19.0   \n",
              "\n",
              "  TP_SEXO  TP_ESTADO_CIVIL  TP_COR_RACA  TP_NACIONALIDADE  ...  Q016 Q017  \\\n",
              "0       F                0            1                 1  ...     B    A   \n",
              "1       F                1            3                 1  ...     A    A   \n",
              "2       M                0            3                 1  ...     B    A   \n",
              "3       M                1            1                 1  ...     B    A   \n",
              "4       M                1            1                 1  ...     B    A   \n",
              "\n",
              "   Q018 Q019  Q020  Q021  Q022  Q023  Q024  Q025  \n",
              "0     A    B     A     A     C     A     B     B  \n",
              "1     A    B     A     A     C     A     B     B  \n",
              "2     B    C     B     B     D     A     B     B  \n",
              "3     A    B     A     A     E     A     A     B  \n",
              "4     A    E     B     B     C     B     B     B  \n",
              "\n",
              "[5 rows x 118 columns]"
            ],
            "text/html": [
              "\n",
              "  <div id=\"df-7efa920d-b38a-432e-a831-c6e64251cd72\">\n",
              "    <div class=\"colab-df-container\">\n",
              "      <div>\n",
              "<style scoped>\n",
              "    .dataframe tbody tr th:only-of-type {\n",
              "        vertical-align: middle;\n",
              "    }\n",
              "\n",
              "    .dataframe tbody tr th {\n",
              "        vertical-align: top;\n",
              "    }\n",
              "\n",
              "    .dataframe thead th {\n",
              "        text-align: right;\n",
              "    }\n",
              "</style>\n",
              "<table border=\"1\" class=\"dataframe\">\n",
              "  <thead>\n",
              "    <tr style=\"text-align: right;\">\n",
              "      <th></th>\n",
              "      <th>NU_INSCRICAO</th>\n",
              "      <th>CO_MUNICIPIO_RESIDENCIA</th>\n",
              "      <th>NO_MUNICIPIO_RESIDENCIA</th>\n",
              "      <th>CO_UF_RESIDENCIA</th>\n",
              "      <th>SG_UF_RESIDENCIA</th>\n",
              "      <th>NU_IDADE</th>\n",
              "      <th>TP_SEXO</th>\n",
              "      <th>TP_ESTADO_CIVIL</th>\n",
              "      <th>TP_COR_RACA</th>\n",
              "      <th>TP_NACIONALIDADE</th>\n",
              "      <th>...</th>\n",
              "      <th>Q016</th>\n",
              "      <th>Q017</th>\n",
              "      <th>Q018</th>\n",
              "      <th>Q019</th>\n",
              "      <th>Q020</th>\n",
              "      <th>Q021</th>\n",
              "      <th>Q022</th>\n",
              "      <th>Q023</th>\n",
              "      <th>Q024</th>\n",
              "      <th>Q025</th>\n",
              "    </tr>\n",
              "  </thead>\n",
              "  <tbody>\n",
              "    <tr>\n",
              "      <th>0</th>\n",
              "      <td>d7e73c5f-2db8-4089-9bee-d3a0e045f87f</td>\n",
              "      <td>1100023</td>\n",
              "      <td>Ariquemes</td>\n",
              "      <td>11</td>\n",
              "      <td>RO</td>\n",
              "      <td>31.0</td>\n",
              "      <td>F</td>\n",
              "      <td>0</td>\n",
              "      <td>1</td>\n",
              "      <td>1</td>\n",
              "      <td>...</td>\n",
              "      <td>B</td>\n",
              "      <td>A</td>\n",
              "      <td>A</td>\n",
              "      <td>B</td>\n",
              "      <td>A</td>\n",
              "      <td>A</td>\n",
              "      <td>C</td>\n",
              "      <td>A</td>\n",
              "      <td>B</td>\n",
              "      <td>B</td>\n",
              "    </tr>\n",
              "    <tr>\n",
              "      <th>1</th>\n",
              "      <td>668bf6e4-ddf7-4810-b31e-7d325e36de4d</td>\n",
              "      <td>3106200</td>\n",
              "      <td>Belo Horizonte</td>\n",
              "      <td>31</td>\n",
              "      <td>MG</td>\n",
              "      <td>23.0</td>\n",
              "      <td>F</td>\n",
              "      <td>1</td>\n",
              "      <td>3</td>\n",
              "      <td>1</td>\n",
              "      <td>...</td>\n",
              "      <td>A</td>\n",
              "      <td>A</td>\n",
              "      <td>A</td>\n",
              "      <td>B</td>\n",
              "      <td>A</td>\n",
              "      <td>A</td>\n",
              "      <td>C</td>\n",
              "      <td>A</td>\n",
              "      <td>B</td>\n",
              "      <td>B</td>\n",
              "    </tr>\n",
              "    <tr>\n",
              "      <th>2</th>\n",
              "      <td>951e80d6-ac9b-4ff2-8130-fcbc8ac78b16</td>\n",
              "      <td>3139409</td>\n",
              "      <td>Manhuaçu</td>\n",
              "      <td>31</td>\n",
              "      <td>MG</td>\n",
              "      <td>17.0</td>\n",
              "      <td>M</td>\n",
              "      <td>0</td>\n",
              "      <td>3</td>\n",
              "      <td>1</td>\n",
              "      <td>...</td>\n",
              "      <td>B</td>\n",
              "      <td>A</td>\n",
              "      <td>B</td>\n",
              "      <td>C</td>\n",
              "      <td>B</td>\n",
              "      <td>B</td>\n",
              "      <td>D</td>\n",
              "      <td>A</td>\n",
              "      <td>B</td>\n",
              "      <td>B</td>\n",
              "    </tr>\n",
              "    <tr>\n",
              "      <th>3</th>\n",
              "      <td>baf409f9-ddc6-4e82-9a4b-b64b579cd105</td>\n",
              "      <td>2506301</td>\n",
              "      <td>Guarabira</td>\n",
              "      <td>25</td>\n",
              "      <td>PB</td>\n",
              "      <td>16.0</td>\n",
              "      <td>M</td>\n",
              "      <td>1</td>\n",
              "      <td>1</td>\n",
              "      <td>1</td>\n",
              "      <td>...</td>\n",
              "      <td>B</td>\n",
              "      <td>A</td>\n",
              "      <td>A</td>\n",
              "      <td>B</td>\n",
              "      <td>A</td>\n",
              "      <td>A</td>\n",
              "      <td>E</td>\n",
              "      <td>A</td>\n",
              "      <td>A</td>\n",
              "      <td>B</td>\n",
              "    </tr>\n",
              "    <tr>\n",
              "      <th>4</th>\n",
              "      <td>9fd415ac-3421-44ce-810e-599545c3c025</td>\n",
              "      <td>2304400</td>\n",
              "      <td>Fortaleza</td>\n",
              "      <td>23</td>\n",
              "      <td>CE</td>\n",
              "      <td>19.0</td>\n",
              "      <td>M</td>\n",
              "      <td>1</td>\n",
              "      <td>1</td>\n",
              "      <td>1</td>\n",
              "      <td>...</td>\n",
              "      <td>B</td>\n",
              "      <td>A</td>\n",
              "      <td>A</td>\n",
              "      <td>E</td>\n",
              "      <td>B</td>\n",
              "      <td>B</td>\n",
              "      <td>C</td>\n",
              "      <td>B</td>\n",
              "      <td>B</td>\n",
              "      <td>B</td>\n",
              "    </tr>\n",
              "  </tbody>\n",
              "</table>\n",
              "<p>5 rows × 118 columns</p>\n",
              "</div>\n",
              "      <button class=\"colab-df-convert\" onclick=\"convertToInteractive('df-7efa920d-b38a-432e-a831-c6e64251cd72')\"\n",
              "              title=\"Convert this dataframe to an interactive table.\"\n",
              "              style=\"display:none;\">\n",
              "        \n",
              "  <svg xmlns=\"http://www.w3.org/2000/svg\" height=\"24px\"viewBox=\"0 0 24 24\"\n",
              "       width=\"24px\">\n",
              "    <path d=\"M0 0h24v24H0V0z\" fill=\"none\"/>\n",
              "    <path d=\"M18.56 5.44l.94 2.06.94-2.06 2.06-.94-2.06-.94-.94-2.06-.94 2.06-2.06.94zm-11 1L8.5 8.5l.94-2.06 2.06-.94-2.06-.94L8.5 2.5l-.94 2.06-2.06.94zm10 10l.94 2.06.94-2.06 2.06-.94-2.06-.94-.94-2.06-.94 2.06-2.06.94z\"/><path d=\"M17.41 7.96l-1.37-1.37c-.4-.4-.92-.59-1.43-.59-.52 0-1.04.2-1.43.59L10.3 9.45l-7.72 7.72c-.78.78-.78 2.05 0 2.83L4 21.41c.39.39.9.59 1.41.59.51 0 1.02-.2 1.41-.59l7.78-7.78 2.81-2.81c.8-.78.8-2.07 0-2.86zM5.41 20L4 18.59l7.72-7.72 1.47 1.35L5.41 20z\"/>\n",
              "  </svg>\n",
              "      </button>\n",
              "      \n",
              "  <style>\n",
              "    .colab-df-container {\n",
              "      display:flex;\n",
              "      flex-wrap:wrap;\n",
              "      gap: 12px;\n",
              "    }\n",
              "\n",
              "    .colab-df-convert {\n",
              "      background-color: #E8F0FE;\n",
              "      border: none;\n",
              "      border-radius: 50%;\n",
              "      cursor: pointer;\n",
              "      display: none;\n",
              "      fill: #1967D2;\n",
              "      height: 32px;\n",
              "      padding: 0 0 0 0;\n",
              "      width: 32px;\n",
              "    }\n",
              "\n",
              "    .colab-df-convert:hover {\n",
              "      background-color: #E2EBFA;\n",
              "      box-shadow: 0px 1px 2px rgba(60, 64, 67, 0.3), 0px 1px 3px 1px rgba(60, 64, 67, 0.15);\n",
              "      fill: #174EA6;\n",
              "    }\n",
              "\n",
              "    [theme=dark] .colab-df-convert {\n",
              "      background-color: #3B4455;\n",
              "      fill: #D2E3FC;\n",
              "    }\n",
              "\n",
              "    [theme=dark] .colab-df-convert:hover {\n",
              "      background-color: #434B5C;\n",
              "      box-shadow: 0px 1px 3px 1px rgba(0, 0, 0, 0.15);\n",
              "      filter: drop-shadow(0px 1px 2px rgba(0, 0, 0, 0.3));\n",
              "      fill: #FFFFFF;\n",
              "    }\n",
              "  </style>\n",
              "\n",
              "      <script>\n",
              "        const buttonEl =\n",
              "          document.querySelector('#df-7efa920d-b38a-432e-a831-c6e64251cd72 button.colab-df-convert');\n",
              "        buttonEl.style.display =\n",
              "          google.colab.kernel.accessAllowed ? 'block' : 'none';\n",
              "\n",
              "        async function convertToInteractive(key) {\n",
              "          const element = document.querySelector('#df-7efa920d-b38a-432e-a831-c6e64251cd72');\n",
              "          const dataTable =\n",
              "            await google.colab.kernel.invokeFunction('convertToInteractive',\n",
              "                                                     [key], {});\n",
              "          if (!dataTable) return;\n",
              "\n",
              "          const docLinkHtml = 'Like what you see? Visit the ' +\n",
              "            '<a target=\"_blank\" href=https://colab.research.google.com/notebooks/data_table.ipynb>data table notebook</a>'\n",
              "            + ' to learn more about interactive tables.';\n",
              "          element.innerHTML = '';\n",
              "          dataTable['output_type'] = 'display_data';\n",
              "          await google.colab.output.renderOutput(dataTable, element);\n",
              "          const docLink = document.createElement('div');\n",
              "          docLink.innerHTML = docLinkHtml;\n",
              "          element.appendChild(docLink);\n",
              "        }\n",
              "      </script>\n",
              "    </div>\n",
              "  </div>\n",
              "  "
            ]
          },
          "metadata": {},
          "execution_count": 4
        }
      ]
    },
    {
      "cell_type": "markdown",
      "source": [
        "Redefining targets:"
      ],
      "metadata": {
        "id": "ZLl6R-A0hSur"
      }
    },
    {
      "cell_type": "code",
      "source": [
        "targets = ['NU_NOTA_CN', 'NU_NOTA_CH', 'NU_NOTA_MT', 'NU_NOTA_LC', 'NU_NOTA_REDACAO']"
      ],
      "metadata": {
        "id": "HmuL6X_nhUua"
      },
      "execution_count": 5,
      "outputs": []
    },
    {
      "cell_type": "markdown",
      "source": [
        "Checking the data distribution (shape) of the grades:"
      ],
      "metadata": {
        "id": "cLJp7epd9cr3"
      }
    },
    {
      "cell_type": "code",
      "source": [
        "fig, axes = plt.subplots(5, 1, figsize=(10,30))\n",
        "fig.suptitle('Grades Distribution')\n",
        "\n",
        "sns.histplot(ax=axes[0],data=df_train[targets[0]], kde=True)\n",
        "axes[0].set_title('Essay grades distribution')\n",
        "\n",
        "sns.histplot(ax=axes[1],data=df_train[targets[1]],kde=True)\n",
        "axes[1].set_title('Human Sciences grades distribution')\n",
        "\n",
        "sns.histplot(ax=axes[2],data=df_train[targets[2]],kde=True)\n",
        "axes[2].set_title('Nature Sciences grades distribution')\n",
        "\n",
        "sns.histplot(ax=axes[3],data=df_train[targets[3]],kde=True)\n",
        "axes[3].set_title('Language and Codes grades distribution')\n",
        "\n",
        "sns.histplot(ax=axes[4],data=df_train[targets[4]],kde=True)\n",
        "axes[4].set_title('Math grades distribution')"
      ],
      "metadata": {
        "id": "gNd4D0P1xoyz",
        "colab": {
          "base_uri": "https://localhost:8080/",
          "height": 1000
        },
        "outputId": "f14edf7d-603d-4446-d4d0-bc805c55b27f"
      },
      "execution_count": null,
      "outputs": [
        {
          "output_type": "execute_result",
          "data": {
            "text/plain": [
              "Text(0.5, 1.0, 'Math grades distribution')"
            ]
          },
          "metadata": {},
          "execution_count": 6
        },
        {
          "output_type": "display_data",
          "data": {
            "text/plain": [
              "<Figure size 720x2160 with 5 Axes>"
            ],
            "image/png": "[encoded data removed]"
          },
          "metadata": {
            "needs_background": "light"
          }
        }
      ]
    },
    {
      "cell_type": "markdown",
      "source": [
        "## Problem Framming (Exposition)\n",
        "If you were a Brazilian high school student in 1996 living in the North region of the country and dreamed of going to an university in the Southest region of the country, your life would've been hell. \n",
        "\n",
        "Your journey would start by applying each and every university's entry exam (and paying a fee relative to each different application) and praying that two institutions of your interest would not have their exams in the same day.\n",
        "\n",
        "Since each institution had its own exam, the student would have to be in the university's state to take the exam. Meaning that if you wanted to try the test for UFRJ (in Rio de Janeiro) and USP (in São Paulo), you would have to make two round trips from the North region to one state and than repeat it to the other.\n",
        "\n",
        "That scenario was pretty common since the most renowed univerities were in the Southestern region of Brazil. So high school students from all over the country were victioms to this system.\n",
        "\n",
        "Acknowledging the problem, in 1998 the ENEM (High School National Exam) was created and became the main entryway into Brazil's universities. Students would pay one fee and their grade at the exam would serve as means to enter any university in the country. This unified exam was resposible to reduce the handicaps that afflicted many Brazilian students.\n",
        "\n",
        "The implementation of this exam was a great step to make university admission more democratic and fair. But given Brazil's History and Geography, a students's social-economic, geographic and familiar backgrounds might define its chances to succeed at ENEM.\n",
        "\n",
        "This is the question I will dive into in this notebook. By using data gathered from a survey answered by ENEM candidates and information about their perfomance at the exam, I will try to understand the influence of external factors in theirs grades. \n",
        "\n",
        "From that understanding, I intend to create a regression model in order to predict a student's grades based on external information about it."
      ],
      "metadata": {
        "id": "Blgssa3SujIO"
      }
    },
    {
      "cell_type": "markdown",
      "source": [
        "## Domain Theory/Hypotheses (Conflict Introduction)\n",
        "The high level hypothesis is that the grades of an ENEM candidate are, most of times, a factor of social-economic background. It is initially presumed that students comming from wealthier families will often perform considerably better than others coming from poorer families. \n",
        "\n",
        "The social-economic discrepancies between regions in Brazil is a well-known issue in the Brazilian society, and like so shall be considered a crucial part of the analysis.\n",
        "\n",
        "The main hypothesis (high level) can be broken down into more datailed hypotheses (low level):\n",
        "1. Students living in the wealthiest regions of the country (South and Southest) have a greter chance to do better in the exam. Consequently, students from the poorest regions (North and Northest) have a smaller chance to do well in the exam;\n",
        "2. Students from the private schooling system have an advantage over students from public schools;\n",
        "3. The higher the parents' level of education, the better the student's grades;\n",
        "4. Students with a greater monthly house income have better grades;\n",
        "5. Internet access is a big factor on the definition of students' grades."
      ],
      "metadata": {
        "id": "EczYTYVw8Drg"
      }
    },
    {
      "cell_type": "markdown",
      "source": [
        "### Hypotheses Checking Preparation - Grade Subdivision\n",
        "\n"
      ],
      "metadata": {
        "id": "RXUS_BY0FvCT"
      }
    },
    {
      "cell_type": "markdown",
      "source": [
        "Since all hypotheses presented in the previous section use grades as a metric of students' performance, they will be subdivided into 4 groups in order to facilitate a student's performance."
      ],
      "metadata": {
        "id": "MpaoFz694oXl"
      }
    },
    {
      "cell_type": "code",
      "source": [
        "# Getting grades ranges:\n",
        "fig, axes = plt.subplots(1, 1, figsize=(10,10))\n",
        "fig.suptitle('Grades Distribution')\n",
        "for col in targets:\n",
        "    # Getting min and max values\n",
        "    max_val = df_train[col].max()\n",
        "    min_val = df_train[col].min()\n",
        "    print(f'Ranges in {col}:')\n",
        "    print(f'Min Value = {min_val} / Max Value = {max_val}')\n",
        "    # Specifing random color\n",
        "    r = uniform(0,1)\n",
        "    g = uniform(0,1)\n",
        "    b = uniform(0,1)\n",
        "    color = [r, g, b]\n",
        "    # Plotting the grades distribution\n",
        "    sns.histplot(data=df_train[col], color=color)"
      ],
      "metadata": {
        "colab": {
          "base_uri": "https://localhost:8080/",
          "height": 852
        },
        "id": "56QTrsGo7iQi",
        "outputId": "4e1d3798-496d-4919-ce70-37a075cde30c"
      },
      "execution_count": null,
      "outputs": [
        {
          "output_type": "stream",
          "name": "stdout",
          "text": [
            "Ranges in NU_NOTA_CN:\n",
            "Min Value = 0.0 / Max Value = 860.9000244140625\n",
            "Ranges in NU_NOTA_CH:\n",
            "Min Value = 0.0 / Max Value = 835.0999755859375\n",
            "Ranges in NU_NOTA_MT:\n",
            "Min Value = 0.0 / Max Value = 985.5\n",
            "Ranges in NU_NOTA_LC:\n",
            "Min Value = 0.0 / Max Value = 801.7000122070312\n",
            "Ranges in NU_NOTA_REDACAO:\n",
            "Min Value = 40.0 / Max Value = 1000.0\n"
          ]
        },
        {
          "output_type": "display_data",
          "data": {
            "text/plain": [
              "<Figure size 720x720 with 1 Axes>"
            ],
            "image/png": "[encoded data removed]"
          },
          "metadata": {
            "needs_background": "light"
          }
        }
      ]
    },
    {
      "cell_type": "markdown",
      "source": [
        "Since the ranges and distributions vary considerably among grades, I will create the 4 different subdivisions for each grade using percentiles.\n",
        "\n",
        "- Lower than 25%: very low performance\n",
        "- Between 25% and 50%: low performance\n",
        "- Between 50% and 75%: average performance\n",
        "- Higher than 75%: high performance"
      ],
      "metadata": {
        "id": "OJFZl4nw8QZ-"
      }
    },
    {
      "cell_type": "code",
      "source": [
        "pp = pprint.PrettyPrinter()\n",
        "\n",
        "# Dictionary to hold the percentiles for all 5 grades:\n",
        "perc = {}\n",
        "# Percentiles of interest\n",
        "divisions = [25, 50, 75]\n",
        "\n",
        "for grade in targets: # Iteration over subjects' grades names\n",
        "    percentiles = [] # List to hold the percentiles\n",
        "    for div in divisions: # Iteration over the percentiles of interest\n",
        "        percentiles.append(np.percentile(df_train[grade], div))\n",
        "    perc[grade] = percentiles\n",
        "    \n",
        "pp.pprint(perc)"
      ],
      "metadata": {
        "colab": {
          "base_uri": "https://localhost:8080/"
        },
        "id": "sQjA_piCB8xq",
        "outputId": "1905a421-3d09-43da-c1ff-66c603dd84a5"
      },
      "execution_count": 6,
      "outputs": [
        {
          "output_type": "stream",
          "name": "stdout",
          "text": [
            "{'NU_NOTA_CH': [453.6000061035156, 515.7000122070312, 570.0999755859375],\n",
            " 'NU_NOTA_CN': [419.3999938964844, 472.3999938964844, 534.7999877929688],\n",
            " 'NU_NOTA_LC': [488.0, 529.4000244140625, 567.7000122070312],\n",
            " 'NU_NOTA_MT': [436.79998779296875, 503.8999938964844, 600.5999755859375],\n",
            " 'NU_NOTA_REDACAO': [500.0, 580.0, 680.0]}\n"
          ]
        }
      ]
    },
    {
      "cell_type": "markdown",
      "source": [
        "### Hypotheses Checking - Hypothesis 1\n",
        "\n",
        "Hypothesis 1 states that:\n",
        "\n",
        "*Students living in the wealthiest regions of the country (South and Southest) have a greter chance to do better in the exam. Consequently, students from the poorest regions (North and Northest) have a smaller chance to do well in the exam.*\n",
        "\n",
        "In order to verify if that statement is true, the features related to the participants' personal information (PPI), information about their high school (HSI) and information about the exam application site ( were compiled."
      ],
      "metadata": {
        "id": "PpLScf7MLkI0"
      }
    },
    {
      "cell_type": "markdown",
      "source": [
        "#### Participant Personal Information (PPI), High School Information (HSI) and Exam Site (ES) Features:"
      ],
      "metadata": {
        "id": "oIwp0anUwzhU"
      }
    },
    {
      "cell_type": "code",
      "source": [
        "# Creating list with PPI features:\n",
        "tag_col = 'NU_INSCRICAO'\n",
        "first_index = df_train.columns.get_loc('CO_MUNICIPIO_RESIDENCIA')\n",
        "last_index = df_train.columns.get_loc('IN_TREINEIRO')\n",
        "ppi_index = list(range(first_index, last_index + 1))\n",
        "ppi_index.append(df_train.columns.get_loc(tag_col))\n",
        "ppi_index = sorted(ppi_index)\n",
        "ppi = list(df_train.columns[ppi_index])\n",
        "\n",
        "# Printing PPI features:\n",
        "pp = pprint.PrettyPrinter(indent=4)\n",
        "print(\"The features related to a student's personal information are:\\n\")\n",
        "pp.pprint(ppi)\n",
        "print(\"\\nNumber of features in the PPI section:\")\n",
        "print(len(ppi))"
      ],
      "metadata": {
        "colab": {
          "base_uri": "https://localhost:8080/"
        },
        "id": "EnGv254Lv_CR",
        "outputId": "0acafe42-615e-4423-fb24-a858b98241b4"
      },
      "execution_count": 7,
      "outputs": [
        {
          "output_type": "stream",
          "name": "stdout",
          "text": [
            "The features related to a student's personal information are:\n",
            "\n",
            "[   'NU_INSCRICAO',\n",
            "    'CO_MUNICIPIO_RESIDENCIA',\n",
            "    'NO_MUNICIPIO_RESIDENCIA',\n",
            "    'CO_UF_RESIDENCIA',\n",
            "    'SG_UF_RESIDENCIA',\n",
            "    'NU_IDADE',\n",
            "    'TP_SEXO',\n",
            "    'TP_ESTADO_CIVIL',\n",
            "    'TP_COR_RACA',\n",
            "    'TP_NACIONALIDADE',\n",
            "    'CO_MUNICIPIO_NASCIMENTO',\n",
            "    'NO_MUNICIPIO_NASCIMENTO',\n",
            "    'CO_UF_NASCIMENTO',\n",
            "    'SG_UF_NASCIMENTO',\n",
            "    'TP_ST_CONCLUSAO',\n",
            "    'TP_ANO_CONCLUIU',\n",
            "    'TP_ESCOLA',\n",
            "    'TP_ENSINO',\n",
            "    'IN_TREINEIRO']\n",
            "\n",
            "Number of features in the PPI section:\n",
            "19\n"
          ]
        }
      ]
    },
    {
      "cell_type": "code",
      "source": [
        "# Creating list with HSI features:\n",
        "tag_col = 'NU_INSCRICAO'\n",
        "first_index = df_train.columns.get_loc('CO_ESCOLA')\n",
        "last_index = df_train.columns.get_loc('TP_SIT_FUNC_ESC')\n",
        "hsi_index = list(range(first_index, last_index + 1))\n",
        "hsi_index.append(df_train.columns.get_loc(tag_col))\n",
        "hsi_index = sorted(hsi_index)\n",
        "hsi = list(df_train.columns[hsi_index])\n",
        "\n",
        "# Printing HSI features:\n",
        "pp = pprint.PrettyPrinter(indent=4)\n",
        "print(\"The features related to the high school information are:\\n\")\n",
        "pp.pprint(hsi)\n",
        "print(\"\\nNumber of features in the HSI section:\")\n",
        "print(len(hsi))"
      ],
      "metadata": {
        "colab": {
          "base_uri": "https://localhost:8080/"
        },
        "id": "CuV2KoNp7G9r",
        "outputId": "f2e23f9a-3770-404c-8acc-b891dd821c26"
      },
      "execution_count": 8,
      "outputs": [
        {
          "output_type": "stream",
          "name": "stdout",
          "text": [
            "The features related to the high school information are:\n",
            "\n",
            "[   'NU_INSCRICAO',\n",
            "    'CO_ESCOLA',\n",
            "    'CO_MUNICIPIO_ESC',\n",
            "    'NO_MUNICIPIO_ESC',\n",
            "    'CO_UF_ESC',\n",
            "    'SG_UF_ESC',\n",
            "    'TP_DEPENDENCIA_ADM_ESC',\n",
            "    'TP_LOCALIZACAO_ESC',\n",
            "    'TP_SIT_FUNC_ESC']\n",
            "\n",
            "Number of features in the HSI section:\n",
            "9\n"
          ]
        }
      ]
    },
    {
      "cell_type": "code",
      "source": [
        "# Creating list with ES features:\n",
        "tag_col = 'NU_INSCRICAO'\n",
        "first_index = df_train.columns.get_loc('CO_MUNICIPIO_PROVA')\n",
        "last_index = df_train.columns.get_loc('SG_UF_PROVA')\n",
        "es_index = list(range(first_index, last_index + 1))\n",
        "es_index.append(df_train.columns.get_loc(tag_col))\n",
        "es_index = sorted(es_index)\n",
        "es = list(df_train.columns[es_index])\n",
        "\n",
        "# Printing TSI features:\n",
        "pp = pprint.PrettyPrinter(indent=4)\n",
        "print(\"The features concerning the site where the test is being applied are:\\n\")\n",
        "pp.pprint(es)\n",
        "print(\"\\nNumber of features in this section:\")\n",
        "print(len(es))"
      ],
      "metadata": {
        "colab": {
          "base_uri": "https://localhost:8080/"
        },
        "id": "jTXkUGkjA3vu",
        "outputId": "80d8db05-e640-45dd-feb9-fd8113c36011"
      },
      "execution_count": 9,
      "outputs": [
        {
          "output_type": "stream",
          "name": "stdout",
          "text": [
            "The features concerning the site where the test is being applied are:\n",
            "\n",
            "[   'NU_INSCRICAO',\n",
            "    'CO_MUNICIPIO_PROVA',\n",
            "    'NO_MUNICIPIO_PROVA',\n",
            "    'CO_UF_PROVA',\n",
            "    'SG_UF_PROVA']\n",
            "\n",
            "Number of features in this section:\n",
            "5\n"
          ]
        }
      ]
    },
    {
      "cell_type": "code",
      "source": [
        "df_ppi = df_train[ppi+targets]\n",
        "df_hsi = df_train[hsi+targets]\n",
        "df_es = df_train[es+targets]\n",
        "\n",
        "# These dataframes were created for the data to be managed using smaller datasets."
      ],
      "metadata": {
        "id": "akg5Zf8Viw8f"
      },
      "execution_count": 10,
      "outputs": []
    },
    {
      "cell_type": "markdown",
      "source": [
        "Check of NaN values percentages remaining in each subsection:"
      ],
      "metadata": {
        "id": "D9RFSdJv4QQx"
      }
    },
    {
      "cell_type": "code",
      "source": [
        "# PPI Check:\n",
        "(df_ppi.isna().sum()/df_train.shape[0])*100"
      ],
      "metadata": {
        "colab": {
          "base_uri": "https://localhost:8080/"
        },
        "id": "EaEmzKZI9_Q1",
        "outputId": "ac6d1849-2d1a-4ecc-ec08-cbb0d57a983e"
      },
      "execution_count": null,
      "outputs": [
        {
          "output_type": "execute_result",
          "data": {
            "text/plain": [
              "NU_INSCRICAO                0.000000\n",
              "CO_MUNICIPIO_RESIDENCIA     0.000000\n",
              "NO_MUNICIPIO_RESIDENCIA     0.000000\n",
              "CO_UF_RESIDENCIA            0.000000\n",
              "SG_UF_RESIDENCIA            0.000000\n",
              "NU_IDADE                    0.001241\n",
              "TP_SEXO                     0.000000\n",
              "TP_ESTADO_CIVIL             0.000000\n",
              "TP_COR_RACA                 0.000000\n",
              "TP_NACIONALIDADE            0.000000\n",
              "CO_MUNICIPIO_NASCIMENTO     2.841417\n",
              "NO_MUNICIPIO_NASCIMENTO     2.841417\n",
              "CO_UF_NASCIMENTO            2.841417\n",
              "SG_UF_NASCIMENTO            2.841417\n",
              "TP_ST_CONCLUSAO             0.000000\n",
              "TP_ANO_CONCLUIU             0.000000\n",
              "TP_ESCOLA                   0.000000\n",
              "TP_ENSINO                  42.596472\n",
              "IN_TREINEIRO                0.000000\n",
              "NU_NOTA_CN                  0.000000\n",
              "NU_NOTA_CH                  0.000000\n",
              "NU_NOTA_MT                  0.000000\n",
              "NU_NOTA_LC                  0.000000\n",
              "NU_NOTA_REDACAO             0.000000\n",
              "dtype: float64"
            ]
          },
          "metadata": {},
          "execution_count": 11
        }
      ]
    },
    {
      "cell_type": "code",
      "source": [
        "# HSI Check\n",
        "(df_hsi.isna().sum() / df_train.shape[0]) * 100"
      ],
      "metadata": {
        "colab": {
          "base_uri": "https://localhost:8080/"
        },
        "id": "R4FOk5cX10Tn",
        "outputId": "04aa7d98-a51e-46d2-eb4f-94df06e8f780"
      },
      "execution_count": null,
      "outputs": [
        {
          "output_type": "execute_result",
          "data": {
            "text/plain": [
              "NU_INSCRICAO               0.000000\n",
              "CO_ESCOLA                 74.391778\n",
              "CO_MUNICIPIO_ESC          74.391778\n",
              "NO_MUNICIPIO_ESC          74.391778\n",
              "CO_UF_ESC                 74.391778\n",
              "SG_UF_ESC                 74.391778\n",
              "TP_DEPENDENCIA_ADM_ESC    74.391778\n",
              "TP_LOCALIZACAO_ESC        74.391778\n",
              "TP_SIT_FUNC_ESC           74.391778\n",
              "NU_NOTA_CN                 0.000000\n",
              "NU_NOTA_CH                 0.000000\n",
              "NU_NOTA_MT                 0.000000\n",
              "NU_NOTA_LC                 0.000000\n",
              "NU_NOTA_REDACAO            0.000000\n",
              "dtype: float64"
            ]
          },
          "metadata": {},
          "execution_count": 12
        }
      ]
    },
    {
      "cell_type": "code",
      "source": [
        "# ES Check:\n",
        "(df_es.isna().sum() / df_train.shape[0]) * 100"
      ],
      "metadata": {
        "colab": {
          "base_uri": "https://localhost:8080/"
        },
        "id": "Cg5fbXebBRBy",
        "outputId": "5af63e2b-eaa2-462a-eb98-6425e74532b8"
      },
      "execution_count": null,
      "outputs": [
        {
          "output_type": "execute_result",
          "data": {
            "text/plain": [
              "NU_INSCRICAO          0.0\n",
              "CO_MUNICIPIO_PROVA    0.0\n",
              "NO_MUNICIPIO_PROVA    0.0\n",
              "CO_UF_PROVA           0.0\n",
              "SG_UF_PROVA           0.0\n",
              "NU_NOTA_CN            0.0\n",
              "NU_NOTA_CH            0.0\n",
              "NU_NOTA_MT            0.0\n",
              "NU_NOTA_LC            0.0\n",
              "NU_NOTA_REDACAO       0.0\n",
              "dtype: float64"
            ]
          },
          "metadata": {},
          "execution_count": 13
        }
      ]
    },
    {
      "cell_type": "markdown",
      "source": [
        "Ideally, Hypothesis 1 would be checked using SG_UF_ESC (Abbreviation for school's state), but only around 25.6% of this feature is not NaN.\n",
        "\n",
        "To circumvent that lack of data, two other features could be used: CO_UF_NASCIMENTO (student's state of birth) or SG_UF_PROVA (state where the exam took place). \n",
        "\n",
        "The hypothesis that a student would take the exam on the same state of their high school (SG_UF_PROVA == SG_UF_ESC) is more credible than the hypothesis that a student would not move from the state they were born (SG_UF_NASCIMENTO == SG_UF_ESC). That being said, SG_UF_PROVA will be used to check hypothesis 1."
      ],
      "metadata": {
        "id": "zk9yP5hV94hq"
      }
    },
    {
      "cell_type": "markdown",
      "source": [
        "#### Hypothesis 1 - Visualization\n",
        "\n",
        "Bar plots with all regions and number of students in each grade category."
      ],
      "metadata": {
        "id": "MxjmNUiTEWMT"
      }
    },
    {
      "cell_type": "code",
      "source": [
        "# Creating list for all Brazilian regions\n",
        "SE = ['RJ', 'SP', 'ES', 'MG']\n",
        "S = ['SC', 'PR', 'RS']\n",
        "NE = ['MA', 'PI', 'RN', 'CE', 'PB', 'BA', 'PB', 'AL', 'SE']\n",
        "N = ['AM', 'AC', 'RO', 'RR', 'AP', 'PA', 'TO']\n",
        "CW = ['DF', 'GO', 'MT', 'MS']\n",
        "regions = {'SE':SE, 'S':S, 'NE':NE, 'N':N, 'CW':CW}"
      ],
      "metadata": {
        "id": "_-uFWEwK7I5M"
      },
      "execution_count": 11,
      "outputs": []
    },
    {
      "cell_type": "code",
      "source": [
        "# Getting values for plot:\n",
        "hg = defaultdict(dict) # High Grades\n",
        "ag = defaultdict(dict) # Average Grades\n",
        "lg = defaultdict(dict) # Low Grades\n",
        "vlg = defaultdict(dict) # Very Low Grades\n",
        "\n",
        "for grade in targets:\n",
        "    for region, states in regions.items():\n",
        "        n_high = df_es[(df_es['SG_UF_PROVA'].isin(states)) & (df_es[grade] > perc[grade][2])].shape[0]\n",
        "        n_average = df_es[(df_es['SG_UF_PROVA'].isin(states)) & (df_es[grade] <= perc[grade][2]) & (df_es[grade] > perc[grade][1])].shape[0]\n",
        "        n_low = df_es[(df_es['SG_UF_PROVA'].isin(states)) & (df_es[grade] <= perc[grade][1]) & (df_es[grade] > perc[grade][0])].shape[0]\n",
        "        n_very_low =df_es[(df_es['SG_UF_PROVA'].isin(states)) & (df_es[grade] <= perc[grade][0])].shape[0]\n",
        "        total = n_high + n_average + n_low + n_very_low\n",
        "\n",
        "        hg[region][grade] = round((n_high / total) * 100 , 2) \n",
        "        ag[region][grade] = round((n_average / total) * 100, 2) \n",
        "        lg[region][grade] = round((n_low / total) * 100, 2) \n",
        "        vlg[region][grade] = round((n_very_low / total) * 100, 2) "
      ],
      "metadata": {
        "id": "AzHrEaHSRT5L"
      },
      "execution_count": 13,
      "outputs": []
    },
    {
      "cell_type": "code",
      "source": [
        "# Cretion of data dictionary:\n",
        "geo_data = defaultdict(dict)\n",
        "\n",
        "# Creation of plot heights\n",
        "for region in regions:\n",
        "    for grade in targets:\n",
        "        geo_data[region][grade] = [hg[region][grade], ag[region][grade], lg[region][grade], vlg[region][grade]]"
      ],
      "metadata": {
        "id": "-g_tTmZxLBhC"
      },
      "execution_count": 14,
      "outputs": []
    },
    {
      "cell_type": "code",
      "source": [
        "# Plot for math grades:\n",
        "labels = ['High Grades', 'Average Grades', 'Low Grades', 'Very Low Grades']\n",
        "sns.set_style(\"whitegrid\")\n",
        "\n",
        "x = np.arange(len(labels))  # the label locations\n",
        "width = 0.15  # the width of the bars\n",
        "\n",
        "fig, ax = plt.subplots(figsize=(15,10))\n",
        "\n",
        "rects_cw = ax.bar(x - 2*width, geo_data['CW']['NU_NOTA_MT'], width, label='CW')\n",
        "rects_n = ax.bar(x - width, geo_data['N']['NU_NOTA_MT'], width, label='N')\n",
        "rects_ne = ax.bar(x , geo_data['NE']['NU_NOTA_MT'], width, label='NE')\n",
        "rects_s = ax.bar(x + width, geo_data['S']['NU_NOTA_MT'], width, label='S')\n",
        "rects_se = ax.bar(x + 2*width, geo_data['SE']['NU_NOTA_MT'], width, label='SE')\n",
        "\n",
        "ax.xaxis.set_ticks(x)\n",
        "ax.xaxis.set_ticklabels(labels)\n",
        "ax.legend()\n",
        "\n",
        "def autolabel(rects):\n",
        "    \"\"\"Attach a text label above each bar in *rects*, displaying its height.\"\"\"\n",
        "    for rect in rects:\n",
        "        height = round(rect.get_height(),1)\n",
        "        ax.annotate('{}'.format(height),\n",
        "                    xy=(rect.get_x() + rect.get_width() / 2, height),\n",
        "                    xytext=(0, 3),  # 3 points vertical offset\n",
        "                    textcoords=\"offset points\",\n",
        "                    ha='center', va='bottom')\n",
        "        \n",
        "autolabel(rects_cw)\n",
        "autolabel(rects_n)\n",
        "autolabel(rects_ne)\n",
        "autolabel(rects_s)\n",
        "autolabel(rects_se)\n",
        "\n",
        "plt.title('Math Test Performance')\n"
      ],
      "metadata": {
        "colab": {
          "base_uri": "https://localhost:8080/",
          "height": 627
        },
        "id": "tCF-oykgx1Fn",
        "outputId": "9f485b54-6c5c-493a-80e0-f610195f3848"
      },
      "execution_count": null,
      "outputs": [
        {
          "output_type": "execute_result",
          "data": {
            "text/plain": [
              "Text(0.5, 1.0, 'Math Test Performance')"
            ]
          },
          "metadata": {},
          "execution_count": 33
        },
        {
          "output_type": "display_data",
          "data": {
            "text/plain": [
              "<Figure size 1080x720 with 1 Axes>"
            ],
            "image/png": "[encoded data removed]"
          },
          "metadata": {}
        }
      ]
    },
    {
      "cell_type": "code",
      "source": [
        "# Plot for Languages:\n",
        "labels = ['High Grades', 'Average Grades', 'Low Grades', 'Very Low Grades']\n",
        "sns.set_style(\"whitegrid\")\n",
        "\n",
        "x = np.arange(len(labels))  # the label locations\n",
        "width = 0.15  # the width of the bars\n",
        "\n",
        "fig, ax = plt.subplots(figsize=(15,10))\n",
        "\n",
        "rects_cw = ax.bar(x - 2*width, geo_data['CW']['NU_NOTA_LC'], width, label='CW')\n",
        "rects_n = ax.bar(x - width, geo_data['N']['NU_NOTA_LC'], width, label='N')\n",
        "rects_ne = ax.bar(x , geo_data['NE']['NU_NOTA_LC'], width, label='NE')\n",
        "rects_s = ax.bar(x + width, geo_data['S']['NU_NOTA_LC'], width, label='S')\n",
        "rects_se = ax.bar(x + 2*width, geo_data['SE']['NU_NOTA_LC'], width, label='SE')\n",
        "\n",
        "ax.xaxis.set_ticks(x)\n",
        "ax.xaxis.set_ticklabels(labels)\n",
        "ax.legend()\n",
        "\n",
        "def autolabel(rects):\n",
        "    \"\"\"Attach a text label above each bar in *rects*, displaying its height.\"\"\"\n",
        "    for rect in rects:\n",
        "        height = round(rect.get_height(),1)\n",
        "        ax.annotate('{}'.format(height),\n",
        "                    xy=(rect.get_x() + rect.get_width() / 2, height),\n",
        "                    xytext=(0, 3),  # 3 points vertical offset\n",
        "                    textcoords=\"offset points\",\n",
        "                    ha='center', va='bottom')\n",
        "        \n",
        "autolabel(rects_cw)\n",
        "autolabel(rects_n)\n",
        "autolabel(rects_ne)\n",
        "autolabel(rects_s)\n",
        "autolabel(rects_se)\n",
        "\n",
        "plt.title('Languages Test Performance')"
      ],
      "metadata": {
        "colab": {
          "base_uri": "https://localhost:8080/",
          "height": 627
        },
        "id": "8La9u3dgMR5h",
        "outputId": "d8e599b0-0298-457c-b140-e7d4a3f872f1"
      },
      "execution_count": null,
      "outputs": [
        {
          "output_type": "execute_result",
          "data": {
            "text/plain": [
              "Text(0.5, 1.0, 'Languages Test Performance')"
            ]
          },
          "metadata": {},
          "execution_count": 34
        },
        {
          "output_type": "display_data",
          "data": {
            "text/plain": [
              "<Figure size 1080x720 with 1 Axes>"
            ],
            "image/png": "[encoded data removed]"
          },
          "metadata": {}
        }
      ]
    },
    {
      "cell_type": "code",
      "source": [
        "# Human Sciences:\n",
        "labels = ['High Grades', 'Average Grades', 'Low Grades', 'Very Low Grades']\n",
        "sns.set_style(\"whitegrid\")\n",
        "\n",
        "x = np.arange(len(labels))  # the label locations\n",
        "width = 0.15  # the width of the bars\n",
        "\n",
        "fig, ax = plt.subplots(figsize=(15,10))\n",
        "\n",
        "rects_cw = ax.bar(x - 2*width, geo_data['CW']['NU_NOTA_CH'], width, label='CW')\n",
        "rects_n = ax.bar(x - width, geo_data['N']['NU_NOTA_CH'], width, label='N')\n",
        "rects_ne = ax.bar(x , geo_data['NE']['NU_NOTA_CH'], width, label='NE')\n",
        "rects_s = ax.bar(x + width, geo_data['S']['NU_NOTA_CH'], width, label='S')\n",
        "rects_se = ax.bar(x + 2*width, geo_data['SE']['NU_NOTA_CH'], width, label='SE')\n",
        "\n",
        "ax.xaxis.set_ticks(x)\n",
        "ax.xaxis.set_ticklabels(labels)\n",
        "ax.legend()\n",
        "\n",
        "def autolabel(rects):\n",
        "    \"\"\"Attach a text label above each bar in *rects*, displaying its height.\"\"\"\n",
        "    for rect in rects:\n",
        "        height = round(rect.get_height(),1)\n",
        "        ax.annotate('{}'.format(height),\n",
        "                    xy=(rect.get_x() + rect.get_width() / 2, height),\n",
        "                    xytext=(0, 3),  # 3 points vertical offset\n",
        "                    textcoords=\"offset points\",\n",
        "                    ha='center', va='bottom')\n",
        "        \n",
        "autolabel(rects_cw)\n",
        "autolabel(rects_n)\n",
        "autolabel(rects_ne)\n",
        "autolabel(rects_s)\n",
        "autolabel(rects_se)\n",
        "\n",
        "plt.title('Human Sciences Test Performance')"
      ],
      "metadata": {
        "colab": {
          "base_uri": "https://localhost:8080/",
          "height": 627
        },
        "id": "PcBQwTGYMs6f",
        "outputId": "8daf8b5c-0c40-4af7-b222-da402c56884d"
      },
      "execution_count": null,
      "outputs": [
        {
          "output_type": "execute_result",
          "data": {
            "text/plain": [
              "Text(0.5, 1.0, 'Human Sciences Test Performance')"
            ]
          },
          "metadata": {},
          "execution_count": 35
        },
        {
          "output_type": "display_data",
          "data": {
            "text/plain": [
              "<Figure size 1080x720 with 1 Axes>"
            ],
            "image/png": "[encoded data removed]"
          },
          "metadata": {}
        }
      ]
    },
    {
      "cell_type": "code",
      "source": [
        "# Natural Sciences:\n",
        "labels = ['High Grades', 'Average Grades', 'Low Grades', 'Very Low Grades']\n",
        "# sns.set_theme()\n",
        "sns.set_style(\"whitegrid\")\n",
        "\n",
        "x = np.arange(len(labels))  # the label locations\n",
        "width = 0.15  # the width of the bars\n",
        "\n",
        "fig, ax = plt.subplots(figsize=(15,10))\n",
        "\n",
        "rects_cw = ax.bar(x - 2*width, geo_data['CW']['NU_NOTA_CN'], width, label='CW')\n",
        "rects_n = ax.bar(x - width, geo_data['N']['NU_NOTA_CN'], width, label='N')\n",
        "rects_ne = ax.bar(x , geo_data['NE']['NU_NOTA_CN'], width, label='NE')\n",
        "rects_s = ax.bar(x + width, geo_data['S']['NU_NOTA_CN'], width, label='S')\n",
        "rects_se = ax.bar(x + 2*width, geo_data['SE']['NU_NOTA_CN'], width, label='SE')\n",
        "\n",
        "ax.xaxis.set_ticks(x)\n",
        "ax.xaxis.set_ticklabels(labels)\n",
        "ax.legend()\n",
        "\n",
        "def autolabel(rects):\n",
        "    \"\"\"Attach a text label above each bar in *rects*, displaying its height.\"\"\"\n",
        "    for rect in rects:\n",
        "        height = round(rect.get_height(),1)\n",
        "        ax.annotate('{}'.format(height),\n",
        "                    xy=(rect.get_x() + rect.get_width() / 2, height),\n",
        "                    xytext=(0, 3),  # 3 points vertical offset\n",
        "                    textcoords=\"offset points\",\n",
        "                    ha='center', va='bottom')\n",
        "        \n",
        "autolabel(rects_cw)\n",
        "autolabel(rects_n)\n",
        "autolabel(rects_ne)\n",
        "autolabel(rects_s)\n",
        "autolabel(rects_se)\n",
        "\n",
        "plt.title('Natural Sciences Test Performance')"
      ],
      "metadata": {
        "colab": {
          "base_uri": "https://localhost:8080/",
          "height": 627
        },
        "id": "8yXwd9eXN-FY",
        "outputId": "f7ff6e37-7477-41b6-e7db-40ad6d4a6be7"
      },
      "execution_count": null,
      "outputs": [
        {
          "output_type": "execute_result",
          "data": {
            "text/plain": [
              "Text(0.5, 1.0, 'Natural Sciences Test Performance')"
            ]
          },
          "metadata": {},
          "execution_count": 32
        },
        {
          "output_type": "display_data",
          "data": {
            "text/plain": [
              "<Figure size 1080x720 with 1 Axes>"
            ],
            "image/png": "[encoded data removed]"
          },
          "metadata": {}
        }
      ]
    },
    {
      "cell_type": "code",
      "source": [
        "# Essays:\n",
        "labels = ['High Grades', 'Average Grades', 'Low Grades', 'Very Low Grades']\n",
        "# sns.set_theme()\n",
        "sns.set_style(\"whitegrid\")\n",
        "\n",
        "x = np.arange(len(labels))  # the label locations\n",
        "width = 0.15  # the width of the bars\n",
        "\n",
        "fig, ax = plt.subplots(figsize=(15,10))\n",
        "\n",
        "rects_cw = ax.bar(x - 2*width, geo_data['CW']['NU_NOTA_REDACAO'], width, label='CW')\n",
        "rects_n = ax.bar(x - width, geo_data['N']['NU_NOTA_REDACAO'], width, label='N')\n",
        "rects_ne = ax.bar(x , geo_data['NE']['NU_NOTA_REDACAO'], width, label='NE')\n",
        "rects_s = ax.bar(x + width, geo_data['S']['NU_NOTA_REDACAO'], width, label='S')\n",
        "rects_se = ax.bar(x + 2*width, geo_data['SE']['NU_NOTA_REDACAO'], width, label='SE')\n",
        "\n",
        "ax.xaxis.set_ticks(x)\n",
        "ax.xaxis.set_ticklabels(labels)\n",
        "ax.legend()\n",
        "\n",
        "def autolabel(rects):\n",
        "    \"\"\"Attach a text label above each bar in *rects*, displaying its height.\"\"\"\n",
        "    for rect in rects:\n",
        "        height = round(rect.get_height(),1)\n",
        "        ax.annotate('{}'.format(height),\n",
        "                    xy=(rect.get_x() + rect.get_width() / 2, height),\n",
        "                    xytext=(0, 3),  # 3 points vertical offset\n",
        "                    textcoords=\"offset points\",\n",
        "                    ha='center', va='bottom')\n",
        "        \n",
        "autolabel(rects_cw)\n",
        "autolabel(rects_n)\n",
        "autolabel(rects_ne)\n",
        "autolabel(rects_s)\n",
        "autolabel(rects_se)\n",
        "\n",
        "plt.title('Essays Performance')"
      ],
      "metadata": {
        "colab": {
          "base_uri": "https://localhost:8080/",
          "height": 627
        },
        "id": "k5Q9OHcIO8Uw",
        "outputId": "5d01a547-bc3d-4c13-f9a1-4482795eeeb3"
      },
      "execution_count": null,
      "outputs": [
        {
          "output_type": "execute_result",
          "data": {
            "text/plain": [
              "Text(0.5, 1.0, 'Essays Performance')"
            ]
          },
          "metadata": {},
          "execution_count": 37
        },
        {
          "output_type": "display_data",
          "data": {
            "text/plain": [
              "<Figure size 1080x720 with 1 Axes>"
            ],
            "image/png": "[encoded data removed]"
          },
          "metadata": {}
        }
      ]
    },
    {
      "cell_type": "markdown",
      "source": [
        "#### Hypothesis 1 - Summary\n",
        "\n",
        "Analyzing the previous plots, the result for Hypothesis 1 was:\n",
        "\n",
        "- Math: Hypothesis confirmed \n",
        "- Languages: Hypothesis confirmed\n",
        "- Human Sciences: Hypothesis confirmed\n",
        "- Nature Sciences: Hypothesis confirmed\n",
        "- Essay: Hypothesis refuted (The variations in percentages did not follow a descendent or ascendent trend for the target regions)\n",
        "\n",
        "Obs: the Center-West region had a similar distribuition throughout all grade performances for all subjects (the essays had a slight spike in very low grades)."
      ],
      "metadata": {
        "id": "poZlFDINSuXQ"
      }
    },
    {
      "cell_type": "markdown",
      "source": [
        "### Hypotheses Checking - Hypothesis 2\n",
        "\n",
        "Hypothesis 2 states that:\n",
        "\n",
        "*Students from the private schooling system have an advantage over students from public schools;*\n",
        "\n",
        "The feature used to check this hypothesis is TP_ESCOLA, which is in the PPI section of the data. \n",
        "\n",
        "Despite this feature not having NaN values,it has a \"did not respond\" option. So the first step is to check the percentage of data with this option."
      ],
      "metadata": {
        "id": "KlwyiKLiV6-w"
      }
    },
    {
      "cell_type": "code",
      "source": [
        "no_response = df_ppi[df_ppi['TP_ESCOLA'] == 1].shape[0]/df_ppi.shape[0]\n",
        "print(f'{round(no_response * 100,1)}% of students did not inform to which type of school they attended.')"
      ],
      "metadata": {
        "colab": {
          "base_uri": "https://localhost:8080/"
        },
        "id": "vkPYWrjq3fSh",
        "outputId": "8334d9a0-399e-4a72-a996-ea695413b288"
      },
      "execution_count": null,
      "outputs": [
        {
          "output_type": "stream",
          "name": "stdout",
          "text": [
            "67.3% of students did not inform to which type of school they attended.\n"
          ]
        }
      ]
    },
    {
      "cell_type": "markdown",
      "source": [
        "Since the percentage for \"no response\" students is quite high, one possible option to work with this data is using bootstrapping to infer on the whole dataset based on 32.7% of the complete data.\n",
        "\n",
        "But first, it is important to check how the data distribution of this remaining usable data (check for unreal data distributions, e.g. 99% of students coming from private schools)."
      ],
      "metadata": {
        "id": "-ZiQG80nSSrF"
      }
    },
    {
      "cell_type": "code",
      "source": [
        "df_hs = df_ppi[df_ppi['TP_ESCOLA'] != 1]\n",
        "data = df_hs['TP_ESCOLA']\n",
        "\n",
        "sns.set_style(\"whitegrid\")\n",
        "plt.hist(data, weights=np.ones(len(data)) / len(data))\n",
        "\n",
        "plt.gca().yaxis.set_major_formatter(PercentFormatter(1))\n",
        "plt.show()"
      ],
      "metadata": {
        "colab": {
          "base_uri": "https://localhost:8080/",
          "height": 265
        },
        "id": "NgIpYawKntZ3",
        "outputId": "769f6198-551a-462b-962a-eef891e331de"
      },
      "execution_count": null,
      "outputs": [
        {
          "output_type": "display_data",
          "data": {
            "text/plain": [
              "<Figure size 432x288 with 1 Axes>"
            ],
            "image/png": "[encoded data removed]"
          },
          "metadata": {}
        }
      ]
    },
    {
      "cell_type": "markdown",
      "source": [
        "This histogram informs that around 80% of students come from public schools and approximately 20% of students come from private schools, which are not absurd percentages given Brazilian social inequity. With that, I feel confident in bootstrap sampling this dataset."
      ],
      "metadata": {
        "id": "YjOR8j3jpcd_"
      }
    },
    {
      "cell_type": "markdown",
      "source": [
        "#### Hypothesis 2 - Sample Bootstrapping"
      ],
      "metadata": {
        "id": "dSqHerfbsVg5"
      }
    },
    {
      "cell_type": "code",
      "source": [
        "df_resp = df_ppi[df_ppi['TP_ESCOLA'] != 1]\n",
        "n_trials = int(1e3)\n",
        "\n",
        "hg = defaultdict(dict)\n",
        "avg = defaultdict(dict)\n",
        "low = defaultdict(dict)\n",
        "vlow = defaultdict(dict)\n",
        "total = defaultdict(dict)\n",
        "\n",
        "s_types = [2,3] # \"2\" = public / 3 = private\n",
        "\n",
        "for grade in targets:\n",
        "    for s_type in s_types:\n",
        "        hg[grade][s_type] = []\n",
        "        avg[grade][s_type] = []\n",
        "        low[grade][s_type] = []\n",
        "        vlow[grade][s_type] = []\n",
        "        total[s_type] = []\n",
        "\n",
        "for trial in range(n_trials):\n",
        "    df_sample = df_resp.sample(n=df_resp.shape[0],replace=True)\n",
        "\n",
        "    for grade in targets:\n",
        "        for s_type in s_types:\n",
        "            total[s_type] = df_sample[df_sample['TP_ESCOLA'] == s_type].shape[0]\n",
        "            hg[grade][s_type].append(df_sample[(df_sample['TP_ESCOLA'] == s_type) & (df_sample[grade] > perc[grade][2])].shape[0] / total[s_type])\n",
        "            avg[grade][s_type].append(df_sample[(df_sample['TP_ESCOLA'] == s_type) & (df_sample[grade] <= perc[grade][2]) & (df_sample[grade] > perc[grade][1])].shape[0] / total[s_type])\n",
        "            low[grade][s_type].append(df_sample[(df_sample['TP_ESCOLA'] == s_type) & (df_sample[grade] <= perc[grade][1]) & (df_sample[grade] > perc[grade][0])].shape[0] / total[s_type])\n",
        "            vlow[grade][s_type].append(df_sample[(df_sample['TP_ESCOLA'] == s_type) & (df_sample[grade] <= perc[grade][0])].shape[0] / total[s_type])\n",
        "            "
      ],
      "metadata": {
        "id": "1rnvW8x_4uXY"
      },
      "execution_count": 20,
      "outputs": []
    },
    {
      "cell_type": "markdown",
      "source": [
        "Obs.: The first number of iterations attempted was 10^5. But since it took too long to run (process stopped at around 1 hour), the iterations were reduced to 10^3."
      ],
      "metadata": {
        "id": "hTbzRggOqEb_"
      }
    },
    {
      "cell_type": "code",
      "source": [
        "# Getting the averages:\n",
        "avg_hg = defaultdict(dict)\n",
        "avg_avg = defaultdict(dict)\n",
        "avg_low = defaultdict(dict)\n",
        "avg_vlow = defaultdict(dict)\n",
        "\n",
        "for grade in targets:\n",
        "    for s_type in s_types:\n",
        "        if s_type == 2:\n",
        "            avg_hg[grade]['public'] = np.array(hg[grade][s_type]).mean()\n",
        "            avg_avg[grade]['public'] = np.array(avg[grade][s_type]).mean()\n",
        "            avg_low[grade]['public'] = np.array(low[grade][s_type]).mean()\n",
        "            avg_vlow[grade]['public'] = np.array(vlow[grade][s_type]).mean()\n",
        "            \n",
        "        else:\n",
        "            avg_hg[grade]['private'] = np.array(hg[grade][s_type]).mean()\n",
        "            avg_avg[grade]['private'] = np.array(avg[grade][s_type]).mean()\n",
        "            avg_low[grade]['private'] = np.array(low[grade][s_type]).mean()\n",
        "            avg_vlow[grade]['private'] = np.array(vlow[grade][s_type]).mean()"
      ],
      "metadata": {
        "id": "xcGnN4S73gsl"
      },
      "execution_count": 22,
      "outputs": []
    },
    {
      "cell_type": "markdown",
      "source": [
        "#### Hypothesis 2 - Visualization"
      ],
      "metadata": {
        "id": "JzRFkPUbr-T8"
      }
    },
    {
      "cell_type": "markdown",
      "source": [
        "Following the same logic applied to the previous hypothesis:"
      ],
      "metadata": {
        "id": "sCVuDZqDuqpF"
      }
    },
    {
      "cell_type": "code",
      "source": [
        "# Creation of school type data dictionary:        \n",
        "st_data = defaultdict(dict)\n",
        "\n",
        "# Creation of plot heights\n",
        "for st in ['public', 'private']:\n",
        "    for grade in targets:\n",
        "        st_data[st][grade] = [ round(avg_hg[grade][st] * 100, 2), round(avg_avg[grade][st] * 100, 2), round(avg_low[grade][st] * 100, 2), round(avg_vlow[grade][st] * 100, 2) ] \n",
        "\n",
        "st_data"
      ],
      "metadata": {
        "colab": {
          "base_uri": "https://localhost:8080/"
        },
        "id": "G1_Ybug47zrr",
        "outputId": "a164e5ce-992b-4f69-cffc-5ad6e92b89e8"
      },
      "execution_count": 35,
      "outputs": [
        {
          "output_type": "execute_result",
          "data": {
            "text/plain": [
              "defaultdict(dict,\n",
              "            {'private': {'NU_NOTA_CH': [55.9, 23.29, 12.51, 8.3],\n",
              "              'NU_NOTA_CN': [58.99, 21.87, 11.19, 7.95],\n",
              "              'NU_NOTA_LC': [55.41, 23.98, 12.74, 7.87],\n",
              "              'NU_NOTA_MT': [58.59, 22.31, 11.9, 7.2],\n",
              "              'NU_NOTA_REDACAO': [59.07, 23.25, 11.33, 6.35]},\n",
              "             'public': {'NU_NOTA_CH': [16.53, 25.17, 28.33, 29.97],\n",
              "              'NU_NOTA_CN': [16.7, 24.73, 27.94, 30.63],\n",
              "              'NU_NOTA_LC': [17.04, 24.56, 27.79, 30.61],\n",
              "              'NU_NOTA_MT': [17.97, 26.04, 28.46, 27.53],\n",
              "              'NU_NOTA_REDACAO': [19.57, 25.96, 25.14, 29.33]}})"
            ]
          },
          "metadata": {},
          "execution_count": 35
        }
      ]
    },
    {
      "cell_type": "code",
      "source": [
        "# Math Plot:\n",
        "labels = ['High Grades (> 75th percentile)', 'Average Grades(>50th percentile)', 'Low Grades(>25th percentile)', 'Very Low Grades(<25th percentile)']\n",
        "# sns.set_theme()\n",
        "sns.set_style(\"whitegrid\")\n",
        "\n",
        "x = np.arange(len(labels))  # the label locations\n",
        "width = 0.15  # the width of the bars\n",
        "\n",
        "fig, ax = plt.subplots(figsize=(15,10))\n",
        "\n",
        "rects_priv = ax.bar(x - width, st_data['private']['NU_NOTA_MT'], width, label='Private')\n",
        "rects_pub = ax.bar(x , st_data['public']['NU_NOTA_MT'], width, label='Public')\n",
        "\n",
        "ax.xaxis.set_ticks(x)\n",
        "ax.xaxis.set_ticklabels(labels)\n",
        "ax.legend()\n",
        "plt.ylabel('Percentage of students')\n",
        "\n",
        "def autolabel(rects):\n",
        "    \"\"\"Attach a text label above each bar in *rects*, displaying its height.\"\"\"\n",
        "    for rect in rects:\n",
        "        height = rect.get_height()\n",
        "        ax.annotate('{}'.format(height),\n",
        "                    xy=(rect.get_x() + rect.get_width() / 2, height),\n",
        "                    xytext=(0, 3),  # 3 points vertical offset\n",
        "                    textcoords=\"offset points\",\n",
        "                    ha='center', va='bottom')\n",
        "        \n",
        "autolabel(rects_priv)\n",
        "autolabel(rects_pub)\n",
        "\n",
        "\n",
        "plt.title('Grade Performance of ENEM Students from Private and Public Schools in Math')"
      ],
      "metadata": {
        "colab": {
          "base_uri": "https://localhost:8080/",
          "height": 624
        },
        "outputId": "bfc79e25-31ee-41c6-b75f-1d881a5acc49",
        "id": "3rupb6rF1ORU"
      },
      "execution_count": 40,
      "outputs": [
        {
          "output_type": "execute_result",
          "data": {
            "text/plain": [
              "Text(0.5, 1.0, 'Grade Performance of ENEM Students from Private and Public Schools in Math')"
            ]
          },
          "metadata": {},
          "execution_count": 40
        },
        {
          "output_type": "display_data",
          "data": {
            "text/plain": [
              "<Figure size 1080x720 with 1 Axes>"
            ],
            "image/png": "[encoded data removed]"
          },
          "metadata": {}
        }
      ]
    },
    {
      "cell_type": "code",
      "source": [
        "# Languages Plot:\n",
        "labels = ['High Grades (> 75th percentile)', 'Average Grades(>50th percentile)', 'Low Grades(>25th percentile)', 'Very Low Grades(<25th percentile)']\n",
        "# sns.set_theme()\n",
        "sns.set_style(\"whitegrid\")\n",
        "\n",
        "x = np.arange(len(labels))  # the label locations\n",
        "width = 0.15  # the width of the bars\n",
        "\n",
        "fig, ax = plt.subplots(figsize=(15,10))\n",
        "\n",
        "rects_priv = ax.bar(x - width, st_data['private']['NU_NOTA_LC'], width, label='Private')\n",
        "rects_pub = ax.bar(x , st_data['public']['NU_NOTA_LC'], width, label='Public')\n",
        "\n",
        "ax.xaxis.set_ticks(x)\n",
        "ax.xaxis.set_ticklabels(labels)\n",
        "ax.legend()\n",
        "plt.ylabel('Percentage of students')\n",
        "\n",
        "def autolabel(rects):\n",
        "    \"\"\"Attach a text label above each bar in *rects*, displaying its height.\"\"\"\n",
        "    for rect in rects:\n",
        "        height = rect.get_height()\n",
        "        ax.annotate('{}'.format(height),\n",
        "                    xy=(rect.get_x() + rect.get_width() / 2, height),\n",
        "                    xytext=(0, 3),  # 3 points vertical offset\n",
        "                    textcoords=\"offset points\",\n",
        "                    ha='center', va='bottom')\n",
        "        \n",
        "autolabel(rects_priv)\n",
        "autolabel(rects_pub)\n",
        "\n",
        "\n",
        "plt.title('Grade Performance of ENEM Students from Private and Public Schools in Languages')"
      ],
      "metadata": {
        "colab": {
          "base_uri": "https://localhost:8080/",
          "height": 624
        },
        "id": "AGNsh4zYAoMN",
        "outputId": "aacfe1d0-0990-465f-ef45-6cec2ac7fb72"
      },
      "execution_count": 41,
      "outputs": [
        {
          "output_type": "execute_result",
          "data": {
            "text/plain": [
              "Text(0.5, 1.0, 'Grade Performance of ENEM Students from Private and Public Schools in Languages')"
            ]
          },
          "metadata": {},
          "execution_count": 41
        },
        {
          "output_type": "display_data",
          "data": {
            "text/plain": [
              "<Figure size 1080x720 with 1 Axes>"
            ],
            "image/png": "[encoded data removed]"
          },
          "metadata": {}
        }
      ]
    },
    {
      "cell_type": "code",
      "source": [
        "# Human Sciences Plot:\n",
        "labels = ['High Grades (> 75th percentile)', 'Average Grades(>50th percentile)', 'Low Grades(>25th percentile)', 'Very Low Grades(<25th percentile)']\n",
        "# sns.set_theme()\n",
        "sns.set_style(\"whitegrid\")\n",
        "\n",
        "x = np.arange(len(labels))  # the label locations\n",
        "width = 0.15  # the width of the bars\n",
        "\n",
        "fig, ax = plt.subplots(figsize=(15,10))\n",
        "\n",
        "rects_priv = ax.bar(x - width, st_data['private']['NU_NOTA_CH'], width, label='Private')\n",
        "rects_pub = ax.bar(x , st_data['public']['NU_NOTA_CH'], width, label='Public')\n",
        "\n",
        "ax.xaxis.set_ticks(x)\n",
        "ax.xaxis.set_ticklabels(labels)\n",
        "ax.legend()\n",
        "plt.ylabel('Percentage of students')\n",
        "\n",
        "def autolabel(rects):\n",
        "    \"\"\"Attach a text label above each bar in *rects*, displaying its height.\"\"\"\n",
        "    for rect in rects:\n",
        "        height = rect.get_height()\n",
        "        ax.annotate('{}'.format(height),\n",
        "                    xy=(rect.get_x() + rect.get_width() / 2, height),\n",
        "                    xytext=(0, 3),  # 3 points vertical offset\n",
        "                    textcoords=\"offset points\",\n",
        "                    ha='center', va='bottom')\n",
        "        \n",
        "autolabel(rects_priv)\n",
        "autolabel(rects_pub)\n",
        "\n",
        "\n",
        "plt.title('Grade Performance of ENEM Students from Private and Public Schools in Human Sciences')"
      ],
      "metadata": {
        "colab": {
          "base_uri": "https://localhost:8080/",
          "height": 624
        },
        "id": "3x5LDuErAoxi",
        "outputId": "c902a9cf-d1cb-4091-9739-c0ac1db99e95"
      },
      "execution_count": 42,
      "outputs": [
        {
          "output_type": "execute_result",
          "data": {
            "text/plain": [
              "Text(0.5, 1.0, 'Grade Performance of ENEM Students from Private and Public Schools in Human Sciences')"
            ]
          },
          "metadata": {},
          "execution_count": 42
        },
        {
          "output_type": "display_data",
          "data": {
            "text/plain": [
              "<Figure size 1080x720 with 1 Axes>"
            ],
            "image/png": "[encoded data removed]"
          },
          "metadata": {}
        }
      ]
    },
    {
      "cell_type": "code",
      "source": [
        "# Nature Sciences Plot:\n",
        "labels = ['High Grades (> 75th percentile)', 'Average Grades(>50th percentile)', 'Low Grades(>25th percentile)', 'Very Low Grades(<25th percentile)']\n",
        "# sns.set_theme()\n",
        "sns.set_style(\"whitegrid\")\n",
        "\n",
        "x = np.arange(len(labels))  # the label locations\n",
        "width = 0.15  # the width of the bars\n",
        "\n",
        "fig, ax = plt.subplots(figsize=(15,10))\n",
        "\n",
        "rects_priv = ax.bar(x - width, st_data['private']['NU_NOTA_CN'], width, label='Private')\n",
        "rects_pub = ax.bar(x , st_data['public']['NU_NOTA_CN'], width, label='Public')\n",
        "\n",
        "ax.xaxis.set_ticks(x)\n",
        "ax.xaxis.set_ticklabels(labels)\n",
        "ax.legend()\n",
        "plt.ylabel('Percentage of students')\n",
        "\n",
        "def autolabel(rects):\n",
        "    \"\"\"Attach a text label above each bar in *rects*, displaying its height.\"\"\"\n",
        "    for rect in rects:\n",
        "        height = rect.get_height()\n",
        "        ax.annotate('{}'.format(height),\n",
        "                    xy=(rect.get_x() + rect.get_width() / 2, height),\n",
        "                    xytext=(0, 3),  # 3 points vertical offset\n",
        "                    textcoords=\"offset points\",\n",
        "                    ha='center', va='bottom')\n",
        "        \n",
        "autolabel(rects_priv)\n",
        "autolabel(rects_pub)\n",
        "\n",
        "\n",
        "plt.title('Grade Performance of ENEM Students from Private and Public Schools in Nature Sciences')"
      ],
      "metadata": {
        "colab": {
          "base_uri": "https://localhost:8080/",
          "height": 624
        },
        "id": "jU72UT82Ao6j",
        "outputId": "afa8db53-ad7e-4b3f-bf1a-7f73d8eb4cc6"
      },
      "execution_count": 43,
      "outputs": [
        {
          "output_type": "execute_result",
          "data": {
            "text/plain": [
              "Text(0.5, 1.0, 'Grade Performance of ENEM Students from Private and Public Schools in Nature Sciences')"
            ]
          },
          "metadata": {},
          "execution_count": 43
        },
        {
          "output_type": "display_data",
          "data": {
            "text/plain": [
              "<Figure size 1080x720 with 1 Axes>"
            ],
            "image/png": "[encoded data removed]"
          },
          "metadata": {}
        }
      ]
    },
    {
      "cell_type": "code",
      "source": [
        "# Essay Plot:\n",
        "labels = ['High Grades (> 75th percentile)', 'Average Grades(>50th percentile)', 'Low Grades(>25th percentile)', 'Very Low Grades(<25th percentile)']\n",
        "# sns.set_theme()\n",
        "sns.set_style(\"whitegrid\")\n",
        "\n",
        "x = np.arange(len(labels))  # the label locations\n",
        "width = 0.15  # the width of the bars\n",
        "\n",
        "fig, ax = plt.subplots(figsize=(15,10))\n",
        "\n",
        "rects_priv = ax.bar(x - width, st_data['private']['NU_NOTA_REDACAO'], width, label='Private')\n",
        "rects_pub = ax.bar(x , st_data['public']['NU_NOTA_REDACAO'], width, label='Public')\n",
        "\n",
        "ax.xaxis.set_ticks(x)\n",
        "ax.xaxis.set_ticklabels(labels)\n",
        "ax.legend()\n",
        "plt.ylabel('Percentage of students')\n",
        "\n",
        "def autolabel(rects):\n",
        "    \"\"\"Attach a text label above each bar in *rects*, displaying its height.\"\"\"\n",
        "    for rect in rects:\n",
        "        height = rect.get_height()\n",
        "        ax.annotate('{}'.format(height),\n",
        "                    xy=(rect.get_x() + rect.get_width() / 2, height),\n",
        "                    xytext=(0, 3),  # 3 points vertical offset\n",
        "                    textcoords=\"offset points\",\n",
        "                    ha='center', va='bottom')\n",
        "        \n",
        "autolabel(rects_priv)\n",
        "autolabel(rects_pub)\n",
        "\n",
        "\n",
        "plt.title('Grade Performance of ENEM Students from Private and Public Schools in the Essay Exam')"
      ],
      "metadata": {
        "colab": {
          "base_uri": "https://localhost:8080/",
          "height": 624
        },
        "id": "Y5k337CNApBR",
        "outputId": "719f8e4f-824e-4a15-e480-04d05b4d55ac"
      },
      "execution_count": 44,
      "outputs": [
        {
          "output_type": "execute_result",
          "data": {
            "text/plain": [
              "Text(0.5, 1.0, 'Grade Performance of ENEM Students from Private and Public Schools in the Essay Exam')"
            ]
          },
          "metadata": {},
          "execution_count": 44
        },
        {
          "output_type": "display_data",
          "data": {
            "text/plain": [
              "<Figure size 1080x720 with 1 Axes>"
            ],
            "image/png": "[encoded data removed]"
          },
          "metadata": {}
        }
      ]
    },
    {
      "cell_type": "markdown",
      "source": [
        "### Hypotheses Checking - Hypothesis 3\n",
        "\n",
        "Hypothesis 3 states that:\n",
        "\n",
        "*The higher the parents' level of education, the better the student's grades*\n",
        "\n"
      ],
      "metadata": {
        "id": "SqUaMRiI3Gu3"
      }
    },
    {
      "cell_type": "markdown",
      "source": [
        ""
      ],
      "metadata": {
        "id": "pSnOX8RU3G0d"
      }
    },
    {
      "cell_type": "code",
      "source": [
        ""
      ],
      "metadata": {
        "colab": {
          "base_uri": "https://localhost:8080/"
        },
        "id": "Vj3C7ZScsymu",
        "outputId": "b2fb2384-2823-4117-b1f2-de6086d38d1d"
      },
      "execution_count": null,
      "outputs": [
        {
          "output_type": "execute_result",
          "data": {
            "text/plain": [
              "0.3270748455347244"
            ]
          },
          "metadata": {},
          "execution_count": 30
        }
      ]
    },
    {
      "cell_type": "markdown",
      "source": [
        "### Specialized Health Care Information Features (SHCI):"
      ],
      "metadata": {
        "id": "cg31KAS89D8z"
      }
    },
    {
      "cell_type": "markdown",
      "source": [
        ""
      ],
      "metadata": {
        "id": "PPmtdziIV6aC"
      }
    },
    {
      "cell_type": "code",
      "source": [
        "# Creating list with SHCI features:\n",
        "tag_col = 'NU_INSCRICAO'\n",
        "first_index = df_train.columns.get_loc('IN_BAIXA_VISAO')\n",
        "last_index = df_train.columns.get_loc('IN_OUTRA_DEF')\n",
        "shci_index = list(range(first_index, last_index + 1))\n",
        "shci_index.append(df_train.columns.get_loc(tag_col))\n",
        "shci_index = sorted(shci_index)\n",
        "shci = list(df_train.columns[shci_index])\n",
        "\n",
        "# Printing SHCI features:\n",
        "pp = pprint.PrettyPrinter(indent=4)\n",
        "print(\"The features related to specialized health care students might need are:\\n\")\n",
        "pp.pprint(shci)\n",
        "print(\"\\nNumber of features in this section:\")\n",
        "print(len(shci))"
      ],
      "metadata": {
        "colab": {
          "base_uri": "https://localhost:8080/"
        },
        "id": "bIq8bN_WRD0P",
        "outputId": "f3434c8d-4fc4-46aa-941e-6e806f59799a"
      },
      "execution_count": null,
      "outputs": [
        {
          "output_type": "stream",
          "name": "stdout",
          "text": [
            "The features related to specialized health care students might need are:\n",
            "\n",
            "[   'NU_INSCRICAO',\n",
            "    'IN_BAIXA_VISAO',\n",
            "    'IN_CEGUEIRA',\n",
            "    'IN_SURDEZ',\n",
            "    'IN_DEFICIENCIA_AUDITIVA',\n",
            "    'IN_SURDO_CEGUEIRA',\n",
            "    'IN_DEFICIENCIA_FISICA',\n",
            "    'IN_DEFICIENCIA_MENTAL',\n",
            "    'IN_DEFICIT_ATENCAO',\n",
            "    'IN_DISLEXIA',\n",
            "    'IN_DISCALCULIA',\n",
            "    'IN_AUTISMO',\n",
            "    'IN_VISAO_MONOCULAR',\n",
            "    'IN_OUTRA_DEF']\n",
            "\n",
            "Number of features in this section:\n",
            "14\n"
          ]
        }
      ]
    },
    {
      "cell_type": "markdown",
      "source": [
        ""
      ],
      "metadata": {
        "id": "BdvMad7rUEEi"
      }
    },
    {
      "cell_type": "code",
      "source": [
        "df_shci = df_train[shci+targets]"
      ],
      "metadata": {
        "id": "fb8XODETUDfT"
      },
      "execution_count": null,
      "outputs": []
    },
    {
      "cell_type": "code",
      "source": [
        "rows = []\n",
        "cols = []\n",
        "for col in df_shci[shci].columns:\n",
        "    if col != tag_col:\n",
        "        for var in df_shci[col].unique():\n",
        "            print(os.path.join(col, str(var)))"
      ],
      "metadata": {
        "colab": {
          "base_uri": "https://localhost:8080/"
        },
        "id": "AqKCkHiAUWtk",
        "outputId": "bc3ee2a6-529e-457e-ae84-2da52a3a5036"
      },
      "execution_count": null,
      "outputs": [
        {
          "output_type": "stream",
          "name": "stdout",
          "text": [
            "IN_BAIXA_VISAO/0\n",
            "IN_BAIXA_VISAO/1\n",
            "IN_CEGUEIRA/0\n",
            "IN_CEGUEIRA/1\n",
            "IN_SURDEZ/0\n",
            "IN_SURDEZ/1\n",
            "IN_DEFICIENCIA_AUDITIVA/0\n",
            "IN_DEFICIENCIA_AUDITIVA/1\n",
            "IN_SURDO_CEGUEIRA/0\n",
            "IN_SURDO_CEGUEIRA/1\n",
            "IN_DEFICIENCIA_FISICA/0\n",
            "IN_DEFICIENCIA_FISICA/1\n",
            "IN_DEFICIENCIA_MENTAL/0\n",
            "IN_DEFICIENCIA_MENTAL/1\n",
            "IN_DEFICIT_ATENCAO/0\n",
            "IN_DEFICIT_ATENCAO/1\n",
            "IN_DISLEXIA/0\n",
            "IN_DISLEXIA/1\n",
            "IN_DISCALCULIA/0\n",
            "IN_DISCALCULIA/1\n",
            "IN_AUTISMO/0\n",
            "IN_AUTISMO/1\n",
            "IN_VISAO_MONOCULAR/0\n",
            "IN_VISAO_MONOCULAR/1\n",
            "IN_OUTRA_DEF/0\n",
            "IN_OUTRA_DEF/1\n"
          ]
        }
      ]
    },
    {
      "cell_type": "code",
      "source": [
        ""
      ],
      "metadata": {
        "colab": {
          "base_uri": "https://localhost:8080/"
        },
        "id": "dUJ01p-roetj",
        "outputId": "a8d4306a-ed56-468c-ec8d-6fdacc591795"
      },
      "execution_count": null,
      "outputs": [
        {
          "output_type": "execute_result",
          "data": {
            "text/plain": [
              "NU_NOTA_CN          242\n",
              "NU_NOTA_REDACAO       0\n",
              "NU_NOTA_MT          315\n",
              "NU_NOTA_CH         1281\n",
              "NU_NOTA_LC          580\n",
              "dtype: int64"
            ]
          },
          "metadata": {},
          "execution_count": 62
        }
      ]
    },
    {
      "cell_type": "markdown",
      "source": [
        "### Specific Care Information Features (SCI):"
      ],
      "metadata": {
        "id": "XtEMLNJ89NJv"
      }
    },
    {
      "cell_type": "code",
      "source": [
        "# Creating list with SCI features:\n",
        "tag_col = 'NU_INSCRICAO'\n",
        "first_index = df_train.columns.get_loc('IN_GESTANTE')\n",
        "last_index = df_train.columns.get_loc('IN_ESTUDA_CLASSE_HOSPITALAR')\n",
        "sci_index = list(range(first_index, last_index + 1))\n",
        "sci_index.append(df_train.columns.get_loc(tag_col))\n",
        "sci_index = sorted(sci_index)\n",
        "sci = list(df_train.columns[sci_index])\n",
        "\n",
        "# Printing SCI features:\n",
        "pp = pprint.PrettyPrinter(indent=4)\n",
        "print(\"The features related to specific cares students might need are:\\n\")\n",
        "pp.pprint(sci)\n",
        "print(\"\\nNumber of features in this section:\")\n",
        "print(len(sci))"
      ],
      "metadata": {
        "colab": {
          "base_uri": "https://localhost:8080/"
        },
        "id": "MjZ65PitRiaA",
        "outputId": "1dbcf453-5841-4f96-af9e-b073774b498d"
      },
      "execution_count": null,
      "outputs": [
        {
          "output_type": "stream",
          "name": "stdout",
          "text": [
            "The features related to specific cares students might need are:\n",
            "\n",
            "[   'NU_INSCRICAO',\n",
            "    'IN_GESTANTE',\n",
            "    'IN_LACTANTE',\n",
            "    'IN_IDOSO',\n",
            "    'IN_ESTUDA_CLASSE_HOSPITALAR']\n",
            "\n",
            "Number of features in this section:\n",
            "5\n"
          ]
        }
      ]
    },
    {
      "cell_type": "markdown",
      "source": [
        "### Specific Test Taking Needs Information Features (STTNI):"
      ],
      "metadata": {
        "id": "dB6cVCtx9VJz"
      }
    },
    {
      "cell_type": "code",
      "source": [
        "# Creating list with STTNI features:\n",
        "tag_col = 'NU_INSCRICAO'\n",
        "first_index = df_train.columns.get_loc('IN_SEM_RECURSO')\n",
        "last_index = df_train.columns.get_loc('IN_NOME_SOCIAL')\n",
        "sttni_index = list(range(first_index, last_index + 1))\n",
        "sttni_index.append(df_train.columns.get_loc(tag_col))\n",
        "sttni_index = sorted(sttni_index)\n",
        "sttni = list(df_train.columns[sttni_index])\n",
        "\n",
        "# Printing STTNI features:\n",
        "pp = pprint.PrettyPrinter(indent=4)\n",
        "print(\"The features concerning needs students might have when taking the test are:\\n\")\n",
        "pp.pprint(sttni)\n",
        "print(\"\\nNumber of features in this section:\")\n",
        "print(len(sttni))"
      ],
      "metadata": {
        "colab": {
          "base_uri": "https://localhost:8080/"
        },
        "id": "-7ikfVaHSicj",
        "outputId": "80e34523-3d71-40f2-faaf-f276e9ac15d6"
      },
      "execution_count": null,
      "outputs": [
        {
          "output_type": "stream",
          "name": "stdout",
          "text": [
            "The features concerning needs students might have when taking the test are:\n",
            "\n",
            "[   'NU_INSCRICAO',\n",
            "    'IN_SEM_RECURSO',\n",
            "    'IN_BRAILLE',\n",
            "    'IN_AMPLIADA_24',\n",
            "    'IN_AMPLIADA_18',\n",
            "    'IN_LEDOR',\n",
            "    'IN_ACESSO',\n",
            "    'IN_TRANSCRICAO',\n",
            "    'IN_LIBRAS',\n",
            "    'IN_TEMPO_ADICIONAL',\n",
            "    'IN_LEITURA_LABIAL',\n",
            "    'IN_MESA_CADEIRA_RODAS',\n",
            "    'IN_MESA_CADEIRA_SEPARADA',\n",
            "    'IN_APOIO_PERNA',\n",
            "    'IN_GUIA_INTERPRETE',\n",
            "    'IN_COMPUTADOR',\n",
            "    'IN_CADEIRA_ESPECIAL',\n",
            "    'IN_CADEIRA_CANHOTO',\n",
            "    'IN_CADEIRA_ACOLCHOADA',\n",
            "    'IN_PROVA_DEITADO',\n",
            "    'IN_MOBILIARIO_OBESO',\n",
            "    'IN_LAMINA_OVERLAY',\n",
            "    'IN_PROTETOR_AURICULAR',\n",
            "    'IN_MEDIDOR_GLICOSE',\n",
            "    'IN_MAQUINA_BRAILE',\n",
            "    'IN_SOROBAN',\n",
            "    'IN_MARCA_PASSO',\n",
            "    'IN_SONDA',\n",
            "    'IN_MEDICAMENTOS',\n",
            "    'IN_SALA_INDIVIDUAL',\n",
            "    'IN_SALA_ESPECIAL',\n",
            "    'IN_SALA_ACOMPANHANTE',\n",
            "    'IN_MOBILIARIO_ESPECIFICO',\n",
            "    'IN_MATERIAL_ESPECIFICO',\n",
            "    'IN_NOME_SOCIAL']\n",
            "\n",
            "Number of features in this section:\n",
            "35\n"
          ]
        }
      ]
    },
    {
      "cell_type": "markdown",
      "source": [
        "### Objective Test Information Features (OTI):"
      ],
      "metadata": {
        "id": "mUPJ_0q6-D7o"
      }
    },
    {
      "cell_type": "code",
      "source": [
        "tag_col = 'NU_INSCRICAO'\n",
        "first_index = df_train.columns.get_loc('TP_PRESENCA_CN')\n",
        "last_index = df_train.columns.get_loc('TP_PRESENCA_MT')\n",
        "add_feature_index = df_train.columns.get_loc('TP_LINGUA')\n",
        "oti_index = list(range(first_index, last_index + 1))\n",
        "oti_index.append(df_train.columns.get_loc(tag_col))\n",
        "oti_index.append(add_feature_index)\n",
        "oti_index = sorted(oti_index)\n",
        "oti = list(df_train.columns[oti_index])\n",
        "\n",
        "# Printing TSI features:\n",
        "pp = pprint.PrettyPrinter(indent=4)\n",
        "print(\"The features concerning data about the objective section of the test are:\\n\")\n",
        "pp.pprint(oti)\n",
        "print(\"\\nNumber of features in this section:\")\n",
        "print(len(oti))"
      ],
      "metadata": {
        "colab": {
          "base_uri": "https://localhost:8080/"
        },
        "id": "j5Cv19B-VLbg",
        "outputId": "0821dba6-b1bb-420f-9d21-07df96eb39a9"
      },
      "execution_count": null,
      "outputs": [
        {
          "output_type": "stream",
          "name": "stdout",
          "text": [
            "The features concerning data about the objective section of the test are:\n",
            "\n",
            "[   'NU_INSCRICAO',\n",
            "    'TP_PRESENCA_CN',\n",
            "    'TP_PRESENCA_CH',\n",
            "    'TP_PRESENCA_LC',\n",
            "    'TP_PRESENCA_MT',\n",
            "    'TP_LINGUA']\n",
            "\n",
            "Number of features in this section:\n",
            "6\n"
          ]
        }
      ]
    },
    {
      "cell_type": "markdown",
      "source": [
        "### Essay Information Features (EI):"
      ],
      "metadata": {
        "id": "Juoe0qcv-Omm"
      }
    },
    {
      "cell_type": "code",
      "source": [
        "tag_col = 'NU_INSCRICAO'\n",
        "first_index = df_train.columns.get_loc('TP_STATUS_REDACAO')\n",
        "last_index = df_train.columns.get_loc('TP_STATUS_REDACAO')\n",
        "\n",
        "ei_index = list(range(first_index, last_index + 1))\n",
        "ei_index.append(df_train.columns.get_loc(tag_col))\n",
        "\n",
        "ei_index = sorted(ei_index)\n",
        "ei = list(df_train.columns[ei_index])\n",
        "\n",
        "# Printing TSI features:\n",
        "pp = pprint.PrettyPrinter(indent=4)\n",
        "print(\"The features concerning data about the test essay are:\\n\")\n",
        "pp.pprint(ei)\n",
        "print(\"\\nNumber of features in this section:\")\n",
        "print(len(ei))"
      ],
      "metadata": {
        "colab": {
          "base_uri": "https://localhost:8080/"
        },
        "id": "rdrVDe1WfyRX",
        "outputId": "454a03d0-4cb5-4e56-87a5-24b3d9f1c72c"
      },
      "execution_count": null,
      "outputs": [
        {
          "output_type": "stream",
          "name": "stdout",
          "text": [
            "The features concerning data about the test essay are:\n",
            "\n",
            "['NU_INSCRICAO', 'TP_STATUS_REDACAO']\n",
            "\n",
            "Number of features in this section:\n",
            "2\n"
          ]
        }
      ]
    },
    {
      "cell_type": "markdown",
      "source": [
        "### Social-Economic Information Features (SEI):"
      ],
      "metadata": {
        "id": "7y7T9ng2-TOY"
      }
    },
    {
      "cell_type": "code",
      "source": [
        "tag_col = 'NU_INSCRICAO'\n",
        "first_index = df_train.columns.get_loc('Q001')\n",
        "last_index = df_train.columns.get_loc('Q025')\n",
        "\n",
        "sei_index = list(range(first_index, last_index + 1))\n",
        "sei_index.append(df_train.columns.get_loc(tag_col))\n",
        "\n",
        "sei_index = sorted(sei_index)\n",
        "sei = list(df_train.columns[sei_index])\n",
        "\n",
        "# Printing TSI features:\n",
        "pp = pprint.PrettyPrinter(indent=4)\n",
        "print(\"The features with information on social-economic survey about the students are:\\n\")\n",
        "pp.pprint(sei)\n",
        "print(\"\\nNumber of features in this section:\")\n",
        "print(len(sei))"
      ],
      "metadata": {
        "colab": {
          "base_uri": "https://localhost:8080/"
        },
        "id": "p9sk7ssp-Nbi",
        "outputId": "d301d24d-56b5-41fc-8cd1-ee2132b3b92b"
      },
      "execution_count": null,
      "outputs": [
        {
          "output_type": "stream",
          "name": "stdout",
          "text": [
            "The features with information on social-economic survey about the students are:\n",
            "\n",
            "[   'NU_INSCRICAO',\n",
            "    'Q001',\n",
            "    'Q002',\n",
            "    'Q003',\n",
            "    'Q004',\n",
            "    'Q005',\n",
            "    'Q006',\n",
            "    'Q007',\n",
            "    'Q008',\n",
            "    'Q009',\n",
            "    'Q010',\n",
            "    'Q011',\n",
            "    'Q012',\n",
            "    'Q013',\n",
            "    'Q014',\n",
            "    'Q015',\n",
            "    'Q016',\n",
            "    'Q017',\n",
            "    'Q018',\n",
            "    'Q019',\n",
            "    'Q020',\n",
            "    'Q021',\n",
            "    'Q022',\n",
            "    'Q023',\n",
            "    'Q024',\n",
            "    'Q025']\n",
            "\n",
            "Number of features in this section:\n",
            "26\n"
          ]
        }
      ]
    },
    {
      "cell_type": "code",
      "source": [
        "df_train[sei].shape"
      ],
      "metadata": {
        "colab": {
          "base_uri": "https://localhost:8080/"
        },
        "id": "3KMEHLl27HYe",
        "outputId": "a7f668e3-e8fa-46a3-be74-7ef65bb3c379"
      },
      "execution_count": null,
      "outputs": [
        {
          "output_type": "execute_result",
          "data": {
            "text/plain": [
              "(2336933, 26)"
            ]
          },
          "metadata": {},
          "execution_count": 57
        }
      ]
    },
    {
      "cell_type": "code",
      "source": [
        ""
      ],
      "metadata": {
        "id": "QAiSflwvhbkF"
      },
      "execution_count": null,
      "outputs": []
    }
  ]
}