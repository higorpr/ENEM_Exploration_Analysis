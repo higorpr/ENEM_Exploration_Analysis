{
  "nbformat": 4,
  "nbformat_minor": 0,
  "metadata": {
    "colab": {
      "name": "ENEM - Exploratory Analysis",
      "provenance": [],
      "collapsed_sections": [],
      "mount_file_id": "1633yXDDXg4FH9nVl2PZQoc0m9Xj60Ie8",
      "authorship_tag": "ABX9TyOkk5ZkWltXYNq5iHkRlQCm",
      "include_colab_link": true
    },
    "kernelspec": {
      "name": "python3",
      "display_name": "Python 3"
    },
    "language_info": {
      "name": "python"
    }
  },
  "cells": [
    {
      "cell_type": "markdown",
      "metadata": {
        "id": "view-in-github",
        "colab_type": "text"
      },
      "source": [
        "<a href=\"https://colab.research.google.com/github/higorpr/ENEM_Exploration_Analysis/blob/main/ENEM_Exploratory_Analysis.ipynb\" target=\"_parent\"><img src=\"https://colab.research.google.com/assets/colab-badge.svg\" alt=\"Open In Colab\"/></a>"
      ]
    },
    {
      "cell_type": "markdown",
      "source": [
        "# Methodology"
      ],
      "metadata": {
        "id": "BnNVe_eI6XBw"
      }
    },
    {
      "cell_type": "markdown",
      "source": [
        "Hypothesis > Mathematical/Statistical Theory > Artifact > Experiment > Hypothesis Update and New Iteration"
      ],
      "metadata": {
        "id": "gSehXtQrMS0a"
      }
    },
    {
      "cell_type": "markdown",
      "source": [
        "# Environment Setup"
      ],
      "metadata": {
        "id": "NnEVhqRt64gh"
      }
    },
    {
      "cell_type": "markdown",
      "source": [
        "Installing libraries"
      ],
      "metadata": {
        "id": "-AKJAyCg39l7"
      }
    },
    {
      "cell_type": "code",
      "source": [
        "!pip install -U -q PyDrive"
      ],
      "metadata": {
        "colab": {
          "base_uri": "https://localhost:8080/"
        },
        "id": "JFAanmM237P5",
        "outputId": "5d67f68a-d284-4031-e711-9c298bcbfd08"
      },
      "execution_count": 36,
      "outputs": [
        {
          "output_type": "stream",
          "name": "stdout",
          "text": [
            "\u001b[31mERROR: Could not find a version that satisfies the requirement pprint (from versions: none)\u001b[0m\n",
            "\u001b[31mERROR: No matching distribution found for pprint\u001b[0m\n"
          ]
        }
      ]
    },
    {
      "cell_type": "markdown",
      "source": [
        "Importing libraries"
      ],
      "metadata": {
        "id": "Ke1d6rip32zg"
      }
    },
    {
      "cell_type": "code",
      "source": [
        "import pprint\n",
        "import io\n",
        "import pandas as pd\n",
        "\n",
        "from pydrive.auth import GoogleAuth\n",
        "from pydrive.drive import GoogleDrive\n",
        "from google.colab import auth\n",
        "from oauth2client.client import GoogleCredentials\n",
        "from google.colab import auth\n",
        "from googleapiclient.discovery import build\n",
        "\n",
        "from googleapiclient.http import MediaIoBaseDownload"
      ],
      "metadata": {
        "id": "cPlCHNhg316e"
      },
      "execution_count": 37,
      "outputs": []
    },
    {
      "cell_type": "markdown",
      "source": [
        "Getting train and test files from Google Drive:"
      ],
      "metadata": {
        "id": "1mavUcNhIB7e"
      }
    },
    {
      "cell_type": "code",
      "source": [
        "#@title uploader\n",
        "\n",
        "file_id = \"1-HDq18PMcjLkRnbcLb36kA8dAHy5V55q\" #@param {type:\"string\"}\n",
        "\n",
        "# 1. Authenticate and create the PyDrive client.\n",
        "auth.authenticate_user()\n",
        "gauth = GoogleAuth()\n",
        "gauth.credentials = GoogleCredentials.get_application_default()\n",
        "drive = GoogleDrive(gauth)\n",
        "\n",
        "# PyDrive reference:\n",
        "# https://googledrive.github.io/PyDrive/docs/build/html/index.html\n",
        "\n",
        "auth.authenticate_user()\n",
        "\n",
        "drive_service = build('drive', 'v3')\n",
        "\n",
        "# Replace the assignment below with your file ID\n",
        "# to download a different file.\n",
        "#\n",
        "# A file ID looks like: 1gLBqEWEBQDYbKCDigHnUXNTkzl-OslSO\n",
        "\n",
        "request = drive_service.files().get_media(fileId=file_id)\n",
        "downloaded = io.BytesIO()\n",
        "downloader = MediaIoBaseDownload(downloaded, request)\n",
        "done = False\n",
        "while done is False:\n",
        "  # _ is a placeholder for a progress object that we ignore.\n",
        "  # (Our file is small, so we skip reporting progress.)\n",
        "  _, done = downloader.next_chunk()\n",
        "\n",
        "fileId = drive.CreateFile({'id': file_id }) #DRIVE_FILE_ID is file id example: 1iytA1n2z4go3uVCwE_vIKouTKyIDjEq\n",
        "print(fileId['title'])  \n",
        "fileId.GetContentFile(fileId['title'])  # Save Drive file as a local file\n",
        "\n",
        "!unzip {fileId['title']}"
      ],
      "metadata": {
        "colab": {
          "base_uri": "https://localhost:8080/"
        },
        "id": "7Iz7WrwPy03K",
        "outputId": "3cfb0995-c1d9-40ea-aa7b-173583f90321"
      },
      "execution_count": 2,
      "outputs": [
        {
          "output_type": "stream",
          "name": "stdout",
          "text": [
            "data.zip\n",
            "Archive:  data.zip\n",
            "  inflating: test.parquet            \n",
            "  inflating: train.parquet           \n"
          ]
        }
      ]
    },
    {
      "cell_type": "markdown",
      "source": [
        "Importing train and test files as Pandas Dataframes:"
      ],
      "metadata": {
        "id": "0l6vcnlqH5br"
      }
    },
    {
      "cell_type": "code",
      "source": [
        "df_test = pd.read_parquet('test.parquet', engine='pyarrow')\n",
        "df_train = pd.read_parquet('train.parquet', engine='pyarrow')"
      ],
      "metadata": {
        "id": "dvXrXLzqsidh"
      },
      "execution_count": 3,
      "outputs": []
    },
    {
      "cell_type": "markdown",
      "source": [
        "Target features to be predicted in a future ML model:"
      ],
      "metadata": {
        "id": "kHCh8rZMILXU"
      }
    },
    {
      "cell_type": "code",
      "source": [
        "set(df_train.columns) - set(df_test.columns)"
      ],
      "metadata": {
        "colab": {
          "base_uri": "https://localhost:8080/"
        },
        "id": "9bCmQUtT_wQu",
        "outputId": "e6cbcaf3-d4d9-4e34-a010-b670e883bbaf"
      },
      "execution_count": 4,
      "outputs": [
        {
          "output_type": "execute_result",
          "data": {
            "text/plain": [
              "{'NU_NOTA_CH', 'NU_NOTA_CN', 'NU_NOTA_LC', 'NU_NOTA_MT', 'NU_NOTA_REDACAO'}"
            ]
          },
          "metadata": {},
          "execution_count": 4
        }
      ]
    },
    {
      "cell_type": "markdown",
      "source": [
        "Columns in the training dataset (features and targets):"
      ],
      "metadata": {
        "id": "MeiMGPW_7Nit"
      }
    },
    {
      "cell_type": "code",
      "source": [
        "for col in df_train.columns:\n",
        "    print(col)"
      ],
      "metadata": {
        "colab": {
          "base_uri": "https://localhost:8080/"
        },
        "id": "gyutfzZVDPUe",
        "outputId": "58a79a84-e045-473e-df29-7daf9db9233a"
      },
      "execution_count": 4,
      "outputs": [
        {
          "output_type": "stream",
          "name": "stdout",
          "text": [
            "NU_INSCRICAO\n",
            "CO_MUNICIPIO_RESIDENCIA\n",
            "NO_MUNICIPIO_RESIDENCIA\n",
            "CO_UF_RESIDENCIA\n",
            "SG_UF_RESIDENCIA\n",
            "NU_IDADE\n",
            "TP_SEXO\n",
            "TP_ESTADO_CIVIL\n",
            "TP_COR_RACA\n",
            "TP_NACIONALIDADE\n",
            "CO_MUNICIPIO_NASCIMENTO\n",
            "NO_MUNICIPIO_NASCIMENTO\n",
            "CO_UF_NASCIMENTO\n",
            "SG_UF_NASCIMENTO\n",
            "TP_ST_CONCLUSAO\n",
            "TP_ANO_CONCLUIU\n",
            "TP_ESCOLA\n",
            "TP_ENSINO\n",
            "IN_TREINEIRO\n",
            "CO_ESCOLA\n",
            "CO_MUNICIPIO_ESC\n",
            "NO_MUNICIPIO_ESC\n",
            "CO_UF_ESC\n",
            "SG_UF_ESC\n",
            "TP_DEPENDENCIA_ADM_ESC\n",
            "TP_LOCALIZACAO_ESC\n",
            "TP_SIT_FUNC_ESC\n",
            "IN_BAIXA_VISAO\n",
            "IN_CEGUEIRA\n",
            "IN_SURDEZ\n",
            "IN_DEFICIENCIA_AUDITIVA\n",
            "IN_SURDO_CEGUEIRA\n",
            "IN_DEFICIENCIA_FISICA\n",
            "IN_DEFICIENCIA_MENTAL\n",
            "IN_DEFICIT_ATENCAO\n",
            "IN_DISLEXIA\n",
            "IN_DISCALCULIA\n",
            "IN_AUTISMO\n",
            "IN_VISAO_MONOCULAR\n",
            "IN_OUTRA_DEF\n",
            "IN_GESTANTE\n",
            "IN_LACTANTE\n",
            "IN_IDOSO\n",
            "IN_ESTUDA_CLASSE_HOSPITALAR\n",
            "IN_SEM_RECURSO\n",
            "IN_BRAILLE\n",
            "IN_AMPLIADA_24\n",
            "IN_AMPLIADA_18\n",
            "IN_LEDOR\n",
            "IN_ACESSO\n",
            "IN_TRANSCRICAO\n",
            "IN_LIBRAS\n",
            "IN_TEMPO_ADICIONAL\n",
            "IN_LEITURA_LABIAL\n",
            "IN_MESA_CADEIRA_RODAS\n",
            "IN_MESA_CADEIRA_SEPARADA\n",
            "IN_APOIO_PERNA\n",
            "IN_GUIA_INTERPRETE\n",
            "IN_COMPUTADOR\n",
            "IN_CADEIRA_ESPECIAL\n",
            "IN_CADEIRA_CANHOTO\n",
            "IN_CADEIRA_ACOLCHOADA\n",
            "IN_PROVA_DEITADO\n",
            "IN_MOBILIARIO_OBESO\n",
            "IN_LAMINA_OVERLAY\n",
            "IN_PROTETOR_AURICULAR\n",
            "IN_MEDIDOR_GLICOSE\n",
            "IN_MAQUINA_BRAILE\n",
            "IN_SOROBAN\n",
            "IN_MARCA_PASSO\n",
            "IN_SONDA\n",
            "IN_MEDICAMENTOS\n",
            "IN_SALA_INDIVIDUAL\n",
            "IN_SALA_ESPECIAL\n",
            "IN_SALA_ACOMPANHANTE\n",
            "IN_MOBILIARIO_ESPECIFICO\n",
            "IN_MATERIAL_ESPECIFICO\n",
            "IN_NOME_SOCIAL\n",
            "CO_MUNICIPIO_PROVA\n",
            "NO_MUNICIPIO_PROVA\n",
            "CO_UF_PROVA\n",
            "SG_UF_PROVA\n",
            "TP_PRESENCA_CN\n",
            "TP_PRESENCA_CH\n",
            "TP_PRESENCA_LC\n",
            "TP_PRESENCA_MT\n",
            "NU_NOTA_CN\n",
            "NU_NOTA_CH\n",
            "NU_NOTA_LC\n",
            "NU_NOTA_MT\n",
            "TP_LINGUA\n",
            "TP_STATUS_REDACAO\n",
            "NU_NOTA_REDACAO\n",
            "Q001\n",
            "Q002\n",
            "Q003\n",
            "Q004\n",
            "Q005\n",
            "Q006\n",
            "Q007\n",
            "Q008\n",
            "Q009\n",
            "Q010\n",
            "Q011\n",
            "Q012\n",
            "Q013\n",
            "Q014\n",
            "Q015\n",
            "Q016\n",
            "Q017\n",
            "Q018\n",
            "Q019\n",
            "Q020\n",
            "Q021\n",
            "Q022\n",
            "Q023\n",
            "Q024\n",
            "Q025\n"
          ]
        }
      ]
    },
    {
      "cell_type": "markdown",
      "source": [
        "# Exploratory Analysis"
      ],
      "metadata": {
        "id": "-udSW6y46S-E"
      }
    },
    {
      "cell_type": "markdown",
      "source": [
        "In this section, we will perform an exploratory analysis based on the main divisions on the data:"
      ],
      "metadata": {
        "id": "6VJ_hfgi4-C7"
      }
    },
    {
      "cell_type": "code",
      "source": [
        ""
      ],
      "metadata": {
        "id": "ZLCipQRD6LRa"
      },
      "execution_count": null,
      "outputs": []
    },
    {
      "cell_type": "markdown",
      "source": [
        "Participant Personal Information Features (PPI):"
      ],
      "metadata": {
        "id": "oIwp0anUwzhU"
      }
    },
    {
      "cell_type": "code",
      "source": [
        "# Creating list with PPI features:\n",
        "tag_col = 'NU_INSCRICAO'\n",
        "first_index = df_train.columns.get_loc('CO_MUNICIPIO_RESIDENCIA')\n",
        "last_index = df_train.columns.get_loc('IN_TREINEIRO')\n",
        "ppi_index = list(range(first_index, last_index))\n",
        "ppi_index.append(df_train.columns.get_loc(tag_col))\n",
        "ppi_index = sorted(ppi_index)\n",
        "ppi = list(df_train.columns[ppi_index])\n",
        "\n",
        "# Printing PPI features:\n",
        "pp = pprint.PrettyPrinter(indent=4)\n",
        "print(\"The features related to a student's personal information are:\\n\")\n",
        "pp.pprint(ppi)"
      ],
      "metadata": {
        "colab": {
          "base_uri": "https://localhost:8080/"
        },
        "id": "EnGv254Lv_CR",
        "outputId": "ba8c8b5f-4445-4e73-d603-913d179f5795"
      },
      "execution_count": 46,
      "outputs": [
        {
          "output_type": "stream",
          "name": "stdout",
          "text": [
            "The features related to a student's personal information are:\n",
            "\n",
            "[   'NU_INSCRICAO',\n",
            "    'CO_MUNICIPIO_RESIDENCIA',\n",
            "    'NO_MUNICIPIO_RESIDENCIA',\n",
            "    'CO_UF_RESIDENCIA',\n",
            "    'SG_UF_RESIDENCIA',\n",
            "    'NU_IDADE',\n",
            "    'TP_SEXO',\n",
            "    'TP_ESTADO_CIVIL',\n",
            "    'TP_COR_RACA',\n",
            "    'TP_NACIONALIDADE',\n",
            "    'CO_MUNICIPIO_NASCIMENTO',\n",
            "    'NO_MUNICIPIO_NASCIMENTO',\n",
            "    'CO_UF_NASCIMENTO',\n",
            "    'SG_UF_NASCIMENTO',\n",
            "    'TP_ST_CONCLUSAO',\n",
            "    'TP_ANO_CONCLUIU',\n",
            "    'TP_ESCOLA',\n",
            "    'TP_ENSINO']\n"
          ]
        }
      ]
    },
    {
      "cell_type": "code",
      "source": [
        ""
      ],
      "metadata": {
        "id": "591fA7TvJ3O_",
        "colab": {
          "base_uri": "https://localhost:8080/"
        },
        "outputId": "81d2eb5b-887c-4f4a-bca0-b2a79dbeb463"
      },
      "execution_count": 17,
      "outputs": [
        {
          "output_type": "execute_result",
          "data": {
            "text/plain": [
              "RangeIndex(start=0, stop=3311925, step=1)"
            ]
          },
          "metadata": {},
          "execution_count": 17
        }
      ]
    },
    {
      "cell_type": "code",
      "source": [
        ""
      ],
      "metadata": {
        "id": "aSZpIqmrybwg"
      },
      "execution_count": null,
      "outputs": []
    }
  ]
}